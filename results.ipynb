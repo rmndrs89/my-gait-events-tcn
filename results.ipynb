{
 "cells": [
  {
   "cell_type": "code",
   "execution_count": 2,
   "metadata": {},
   "outputs": [],
   "source": [
    "import numpy as np\n",
    "import seaborn as sns\n",
    "import pandas as pd\n",
    "import matplotlib.pyplot as plt\n",
    "import os"
   ]
  },
  {
   "cell_type": "code",
   "execution_count": 3,
   "metadata": {},
   "outputs": [],
   "source": [
    "ROOT_DIR = \".\"\n",
    "FILENAME = \"results.tsv\""
   ]
  },
  {
   "cell_type": "code",
   "execution_count": 4,
   "metadata": {},
   "outputs": [],
   "source": [
    "df = pd.read_csv(os.path.join(ROOT_DIR, FILENAME), sep=\"\\t\", header=0)"
   ]
  },
  {
   "cell_type": "code",
   "execution_count": 5,
   "metadata": {},
   "outputs": [
    {
     "data": {
      "text/html": [
       "<div>\n",
       "<style scoped>\n",
       "    .dataframe tbody tr th:only-of-type {\n",
       "        vertical-align: middle;\n",
       "    }\n",
       "\n",
       "    .dataframe tbody tr th {\n",
       "        vertical-align: top;\n",
       "    }\n",
       "\n",
       "    .dataframe thead th {\n",
       "        text-align: right;\n",
       "    }\n",
       "</style>\n",
       "<table border=\"1\" class=\"dataframe\">\n",
       "  <thead>\n",
       "    <tr style=\"text-align: right;\">\n",
       "      <th></th>\n",
       "      <th>sub_id</th>\n",
       "      <th>gender</th>\n",
       "      <th>age</th>\n",
       "      <th>participant_type</th>\n",
       "      <th>task</th>\n",
       "      <th>run</th>\n",
       "      <th>tracked_point</th>\n",
       "      <th>event_type</th>\n",
       "      <th>ix_ref</th>\n",
       "      <th>ix_pred</th>\n",
       "      <th>diff_samples</th>\n",
       "      <th>diff_msec</th>\n",
       "      <th>event_true</th>\n",
       "      <th>event_predicted</th>\n",
       "      <th>TP</th>\n",
       "      <th>FN</th>\n",
       "      <th>FP</th>\n",
       "      <th>check</th>\n",
       "    </tr>\n",
       "  </thead>\n",
       "  <tbody>\n",
       "    <tr>\n",
       "      <th>6023</th>\n",
       "      <td>pp033</td>\n",
       "      <td>M</td>\n",
       "      <td>60</td>\n",
       "      <td>stroke</td>\n",
       "      <td>Slow</td>\n",
       "      <td>NaN</td>\n",
       "      <td>right_shank</td>\n",
       "      <td>FC</td>\n",
       "      <td>440.0</td>\n",
       "      <td>439.0</td>\n",
       "      <td>1.0</td>\n",
       "      <td>5.0</td>\n",
       "      <td>1</td>\n",
       "      <td>1</td>\n",
       "      <td>1</td>\n",
       "      <td>0</td>\n",
       "      <td>0</td>\n",
       "      <td>1</td>\n",
       "    </tr>\n",
       "    <tr>\n",
       "      <th>6024</th>\n",
       "      <td>pp033</td>\n",
       "      <td>M</td>\n",
       "      <td>60</td>\n",
       "      <td>stroke</td>\n",
       "      <td>Slow</td>\n",
       "      <td>NaN</td>\n",
       "      <td>right_shank</td>\n",
       "      <td>FC</td>\n",
       "      <td>768.0</td>\n",
       "      <td>770.0</td>\n",
       "      <td>-2.0</td>\n",
       "      <td>-10.0</td>\n",
       "      <td>1</td>\n",
       "      <td>1</td>\n",
       "      <td>1</td>\n",
       "      <td>0</td>\n",
       "      <td>0</td>\n",
       "      <td>1</td>\n",
       "    </tr>\n",
       "    <tr>\n",
       "      <th>6025</th>\n",
       "      <td>pp033</td>\n",
       "      <td>M</td>\n",
       "      <td>60</td>\n",
       "      <td>stroke</td>\n",
       "      <td>Slow</td>\n",
       "      <td>NaN</td>\n",
       "      <td>right_shank</td>\n",
       "      <td>FC</td>\n",
       "      <td>1113.0</td>\n",
       "      <td>1114.0</td>\n",
       "      <td>-1.0</td>\n",
       "      <td>-5.0</td>\n",
       "      <td>1</td>\n",
       "      <td>1</td>\n",
       "      <td>1</td>\n",
       "      <td>0</td>\n",
       "      <td>0</td>\n",
       "      <td>1</td>\n",
       "    </tr>\n",
       "    <tr>\n",
       "      <th>6026</th>\n",
       "      <td>pp033</td>\n",
       "      <td>M</td>\n",
       "      <td>60</td>\n",
       "      <td>stroke</td>\n",
       "      <td>Slow</td>\n",
       "      <td>NaN</td>\n",
       "      <td>right_shank</td>\n",
       "      <td>FC</td>\n",
       "      <td>1450.0</td>\n",
       "      <td>1450.0</td>\n",
       "      <td>0.0</td>\n",
       "      <td>0.0</td>\n",
       "      <td>1</td>\n",
       "      <td>1</td>\n",
       "      <td>1</td>\n",
       "      <td>0</td>\n",
       "      <td>0</td>\n",
       "      <td>1</td>\n",
       "    </tr>\n",
       "    <tr>\n",
       "      <th>6027</th>\n",
       "      <td>pp033</td>\n",
       "      <td>M</td>\n",
       "      <td>60</td>\n",
       "      <td>stroke</td>\n",
       "      <td>Slow</td>\n",
       "      <td>NaN</td>\n",
       "      <td>right_shank</td>\n",
       "      <td>FC</td>\n",
       "      <td>1804.0</td>\n",
       "      <td>1805.0</td>\n",
       "      <td>-1.0</td>\n",
       "      <td>-5.0</td>\n",
       "      <td>1</td>\n",
       "      <td>1</td>\n",
       "      <td>1</td>\n",
       "      <td>0</td>\n",
       "      <td>0</td>\n",
       "      <td>1</td>\n",
       "    </tr>\n",
       "  </tbody>\n",
       "</table>\n",
       "</div>"
      ],
      "text/plain": [
       "     sub_id gender  age participant_type  task  run tracked_point event_type  \\\n",
       "6023  pp033      M   60           stroke  Slow  NaN   right_shank         FC   \n",
       "6024  pp033      M   60           stroke  Slow  NaN   right_shank         FC   \n",
       "6025  pp033      M   60           stroke  Slow  NaN   right_shank         FC   \n",
       "6026  pp033      M   60           stroke  Slow  NaN   right_shank         FC   \n",
       "6027  pp033      M   60           stroke  Slow  NaN   right_shank         FC   \n",
       "\n",
       "      ix_ref  ix_pred  diff_samples  diff_msec  event_true  event_predicted  \\\n",
       "6023   440.0    439.0           1.0        5.0           1                1   \n",
       "6024   768.0    770.0          -2.0      -10.0           1                1   \n",
       "6025  1113.0   1114.0          -1.0       -5.0           1                1   \n",
       "6026  1450.0   1450.0           0.0        0.0           1                1   \n",
       "6027  1804.0   1805.0          -1.0       -5.0           1                1   \n",
       "\n",
       "      TP  FN  FP  check  \n",
       "6023   1   0   0      1  \n",
       "6024   1   0   0      1  \n",
       "6025   1   0   0      1  \n",
       "6026   1   0   0      1  \n",
       "6027   1   0   0      1  "
      ]
     },
     "execution_count": 5,
     "metadata": {},
     "output_type": "execute_result"
    }
   ],
   "source": [
    "df.tail()"
   ]
  },
  {
   "cell_type": "markdown",
   "metadata": {},
   "source": [
    "## Events\n",
    "Split events by event type. We don't want to mix up the detection of initial contacts and final contacts."
   ]
  },
  {
   "cell_type": "code",
   "execution_count": 29,
   "metadata": {},
   "outputs": [],
   "source": [
    "df_ic = df.loc[df['event_type']=='IC']\n",
    "df_fc = df.loc[df['event_type']=='FC']"
   ]
  },
  {
   "cell_type": "code",
   "execution_count": 30,
   "metadata": {},
   "outputs": [
    {
     "data": {
      "text/plain": [
       "<AxesSubplot:xlabel='Detect event', ylabel='Annotated event'>"
      ]
     },
     "execution_count": 30,
     "metadata": {},
     "output_type": "execute_result"
    },
    {
     "data": {
      "image/png": "[encoded data removed]",
      "text/plain": [
       "<Figure size 432x288 with 2 Axes>"
      ]
     },
     "metadata": {
      "needs_background": "light"
     },
     "output_type": "display_data"
    }
   ],
   "source": [
    "confusion_matrix = pd.crosstab(df_ic['event_true'], df_ic['event_predicted'], rownames=['Annotated event'], colnames=['Detect event'])\n",
    "normalized_confusion_matrix = confusion_matrix / confusion_matrix.sum().sum() * 100\n",
    "sns.heatmap(normalized_confusion_matrix, annot=True, fmt=\".1f\")"
   ]
  },
  {
   "cell_type": "code",
   "execution_count": 31,
   "metadata": {},
   "outputs": [
    {
     "data": {
      "text/plain": [
       "<AxesSubplot:xlabel='Detect event', ylabel='Annotated event'>"
      ]
     },
     "execution_count": 31,
     "metadata": {},
     "output_type": "execute_result"
    },
    {
     "data": {
      "image/png": "[encoded data removed]",
      "text/plain": [
       "<Figure size 432x288 with 2 Axes>"
      ]
     },
     "metadata": {
      "needs_background": "light"
     },
     "output_type": "display_data"
    }
   ],
   "source": [
    "confusion_matrix = pd.crosstab(df_fc['event_true'], df_fc['event_predicted'], rownames=['Annotated event'], colnames=['Detect event'])\n",
    "normalized_confusion_matrix = confusion_matrix / confusion_matrix.sum().sum() * 100\n",
    "sns.heatmap(normalized_confusion_matrix, annot=True, fmt=\".1f\")"
   ]
  },
  {
   "cell_type": "markdown",
   "metadata": {},
   "source": [
    "## Overall detection performance"
   ]
  },
  {
   "cell_type": "code",
   "execution_count": 6,
   "metadata": {},
   "outputs": [
    {
     "data": {
      "text/plain": [
       "(2624, 20, 339)"
      ]
     },
     "execution_count": 6,
     "metadata": {},
     "output_type": "execute_result"
    }
   ],
   "source": [
    "df[\"tp\"].sum(), df[\"fp\"].sum(), df[\"fn\"].sum()"
   ]
  },
  {
   "cell_type": "code",
   "execution_count": 7,
   "metadata": {},
   "outputs": [
    {
     "data": {
      "text/plain": [
       "2983"
      ]
     },
     "execution_count": 7,
     "metadata": {},
     "output_type": "execute_result"
    }
   ],
   "source": [
    "len(df)"
   ]
  },
  {
   "cell_type": "code",
   "execution_count": 8,
   "metadata": {},
   "outputs": [
    {
     "name": "stdout",
     "output_type": "stream",
     "text": [
      "                       | Prediction condition\n",
      "                       |   POS    |   NEG   \n",
      "---------------------------------------------\n",
      "          Actual | POS |    tp    |    fn   \n",
      "       condition | NEG |    fp    |    tn   \n"
     ]
    }
   ],
   "source": [
    "print(f\"{22*' ':s}{' | ':s}Prediction condition\")\n",
    "print(f\"{22*' ':s}{' | ':s}{'POS':^8s}{' | '}{'NEG':^8s}\")\n",
    "print(f\"{45*'-':s}\")\n",
    "print(f\"{'Actual':>16s}{' | '}{'POS'}{' | '}{'tp':^8s}{' | '}{'fn':^8s}\")\n",
    "print(f\"{'condition':>16s}{' | '}{'NEG'}{' | '}{'fp':^8s}{' | '}{'tn':^8s}\")"
   ]
  },
  {
   "cell_type": "code",
   "execution_count": 9,
   "metadata": {},
   "outputs": [
    {
     "name": "stdout",
     "output_type": "stream",
     "text": [
      "              CONFUSION MATRIX               \n",
      "                       | Prediction condition\n",
      "                       |   POS    |   NEG   \n",
      "---------------------------------------------\n",
      "          Actual | POS |   2624   |   339   \n",
      "       condition | NEG |    20    |    tn   \n"
     ]
    }
   ],
   "source": [
    "print(f\"{'CONFUSION MATRIX':^45s}\")\n",
    "print(f\"{22*' ':s}{' | ':s}Prediction condition\")\n",
    "print(f\"{22*' ':s}{' | ':s}{'POS':^8s}{' | '}{'NEG':^8s}\")\n",
    "print(f\"{45*'-':s}\")\n",
    "print(f\"{'Actual':>16s}{' | '}{'POS'}{' | '}{df['tp'].sum():^8d}{' | '}{df['fn'].sum():^8d}\")\n",
    "print(f\"{'condition':>16s}{' | '}{'NEG'}{' | '}{df['fp'].sum():^8d}{' | '}{'tn':^8s}\")"
   ]
  },
  {
   "cell_type": "code",
   "execution_count": 10,
   "metadata": {},
   "outputs": [
    {
     "name": "stdout",
     "output_type": "stream",
     "text": [
      "              CONFUSION MATRIX               \n",
      "                       | Prediction condition\n",
      "                       |   POS    |   NEG   \n",
      "---------------------------------------------\n",
      "          Actual | POS |  87.97   |  11.36  \n",
      "       condition | NEG |   0.67   |    tn   \n"
     ]
    }
   ],
   "source": [
    "print(f\"{'CONFUSION MATRIX':^45s}\")\n",
    "print(f\"{22*' ':s}{' | ':s}Prediction condition\")\n",
    "print(f\"{22*' ':s}{' | ':s}{'POS':^8s}{' | '}{'NEG':^8s}\")\n",
    "print(f\"{45*'-':s}\")\n",
    "print(f\"{'Actual':>16s}{' | '}{'POS'}{' | '}{df['tp'].sum()/len(df)*100:^8.2f}{' | '}{df['fn'].sum()/len(df)*100:^8.2f}\")\n",
    "print(f\"{'condition':>16s}{' | '}{'NEG'}{' | '}{df['fp'].sum()/len(df)*100:^8.2f}{' | '}{'tn':^8s}\")"
   ]
  },
  {
   "cell_type": "code",
   "execution_count": 11,
   "metadata": {},
   "outputs": [],
   "source": [
    "df_ic = df.loc[df[\"event_type\"]==\"IC\"]\n",
    "df_fc = df.loc[df[\"event_type\"]==\"FC\"]"
   ]
  },
  {
   "cell_type": "code",
   "execution_count": 12,
   "metadata": {},
   "outputs": [],
   "source": [
    "def pretty_print_conf_matr(df, normalized=False):\n",
    "    if normalized:\n",
    "        print(f\"{'CONFUSION MATRIX':^45s}\")\n",
    "        print(f\"{22*' ':s}{' | ':s}Prediction condition\")\n",
    "        print(f\"{22*' ':s}{' | ':s}{'POS':^8s}{' | '}{'NEG':^8s}\")\n",
    "        print(f\"{45*'-':s}\")\n",
    "        print(f\"{'Actual':>16s}{' | '}{'POS'}{' | '}{df['tp'].sum()/len(df)*100:^8.2f}{' | '}{df['fn'].sum()/len(df)*100:^8.2f}\")\n",
    "        print(f\"{'condition':>16s}{' | '}{'NEG'}{' | '}{df['fp'].sum()/len(df)*100:^8.2f}{' | '}{'tn':^8s}\")\n",
    "    else:\n",
    "        print(f\"{'CONFUSION MATRIX':^45s}\")\n",
    "        print(f\"{22*' ':s}{' | ':s}Prediction condition\")\n",
    "        print(f\"{22*' ':s}{' | ':s}{'POS':^8s}{' | '}{'NEG':^8s}\")\n",
    "        print(f\"{45*'-':s}\")\n",
    "        print(f\"{'Actual':>16s}{' | '}{'POS'}{' | '}{df['tp'].sum():^8d}{' | '}{df['fn'].sum():^8d}\")\n",
    "        print(f\"{'condition':>16s}{' | '}{'NEG'}{' | '}{df['fp'].sum():^8d}{' | '}{'tn':^8s}\")"
   ]
  },
  {
   "cell_type": "code",
   "execution_count": 13,
   "metadata": {},
   "outputs": [
    {
     "name": "stdout",
     "output_type": "stream",
     "text": [
      "              CONFUSION MATRIX               \n",
      "                       | Prediction condition\n",
      "                       |   POS    |   NEG   \n",
      "---------------------------------------------\n",
      "          Actual | POS |  89.64   |   9.35  \n",
      "       condition | NEG |   1.01   |    tn   \n"
     ]
    }
   ],
   "source": [
    "pretty_print_conf_matr(df_fc, normalized=True)"
   ]
  },
  {
   "cell_type": "code",
   "execution_count": 16,
   "metadata": {},
   "outputs": [
    {
     "data": {
      "text/html": [
       "<div>\n",
       "<style scoped>\n",
       "    .dataframe tbody tr th:only-of-type {\n",
       "        vertical-align: middle;\n",
       "    }\n",
       "\n",
       "    .dataframe tbody tr th {\n",
       "        vertical-align: top;\n",
       "    }\n",
       "\n",
       "    .dataframe thead th {\n",
       "        text-align: right;\n",
       "    }\n",
       "</style>\n",
       "<table border=\"1\" class=\"dataframe\">\n",
       "  <thead>\n",
       "    <tr style=\"text-align: right;\">\n",
       "      <th></th>\n",
       "      <th></th>\n",
       "      <th></th>\n",
       "      <th></th>\n",
       "      <th>tp</th>\n",
       "      <th>fn</th>\n",
       "      <th>fp</th>\n",
       "    </tr>\n",
       "    <tr>\n",
       "      <th>sub</th>\n",
       "      <th>task</th>\n",
       "      <th>run</th>\n",
       "      <th>event_type</th>\n",
       "      <th></th>\n",
       "      <th></th>\n",
       "      <th></th>\n",
       "    </tr>\n",
       "  </thead>\n",
       "  <tbody>\n",
       "    <tr>\n",
       "      <th rowspan=\"5\" valign=\"top\">pp022</th>\n",
       "      <th rowspan=\"2\" valign=\"top\">Fast</th>\n",
       "      <th>off</th>\n",
       "      <th>IC</th>\n",
       "      <td>7</td>\n",
       "      <td>0</td>\n",
       "      <td>0</td>\n",
       "    </tr>\n",
       "    <tr>\n",
       "      <th>on</th>\n",
       "      <th>IC</th>\n",
       "      <td>6</td>\n",
       "      <td>1</td>\n",
       "      <td>0</td>\n",
       "    </tr>\n",
       "    <tr>\n",
       "      <th rowspan=\"2\" valign=\"top\">Preferred</th>\n",
       "      <th>off</th>\n",
       "      <th>IC</th>\n",
       "      <td>7</td>\n",
       "      <td>0</td>\n",
       "      <td>0</td>\n",
       "    </tr>\n",
       "    <tr>\n",
       "      <th>on</th>\n",
       "      <th>IC</th>\n",
       "      <td>6</td>\n",
       "      <td>2</td>\n",
       "      <td>0</td>\n",
       "    </tr>\n",
       "    <tr>\n",
       "      <th>Slow</th>\n",
       "      <th>on</th>\n",
       "      <th>IC</th>\n",
       "      <td>9</td>\n",
       "      <td>0</td>\n",
       "      <td>0</td>\n",
       "    </tr>\n",
       "    <tr>\n",
       "      <th rowspan=\"6\" valign=\"top\">pp046</th>\n",
       "      <th rowspan=\"2\" valign=\"top\">Fast</th>\n",
       "      <th>off</th>\n",
       "      <th>IC</th>\n",
       "      <td>5</td>\n",
       "      <td>6</td>\n",
       "      <td>0</td>\n",
       "    </tr>\n",
       "    <tr>\n",
       "      <th>on</th>\n",
       "      <th>IC</th>\n",
       "      <td>9</td>\n",
       "      <td>2</td>\n",
       "      <td>0</td>\n",
       "    </tr>\n",
       "    <tr>\n",
       "      <th rowspan=\"2\" valign=\"top\">Preferred</th>\n",
       "      <th>off</th>\n",
       "      <th>IC</th>\n",
       "      <td>8</td>\n",
       "      <td>5</td>\n",
       "      <td>0</td>\n",
       "    </tr>\n",
       "    <tr>\n",
       "      <th>on</th>\n",
       "      <th>IC</th>\n",
       "      <td>11</td>\n",
       "      <td>0</td>\n",
       "      <td>0</td>\n",
       "    </tr>\n",
       "    <tr>\n",
       "      <th rowspan=\"2\" valign=\"top\">Slow</th>\n",
       "      <th>off</th>\n",
       "      <th>IC</th>\n",
       "      <td>14</td>\n",
       "      <td>0</td>\n",
       "      <td>0</td>\n",
       "    </tr>\n",
       "    <tr>\n",
       "      <th>on</th>\n",
       "      <th>IC</th>\n",
       "      <td>12</td>\n",
       "      <td>0</td>\n",
       "      <td>0</td>\n",
       "    </tr>\n",
       "    <tr>\n",
       "      <th rowspan=\"3\" valign=\"top\">pp053</th>\n",
       "      <th>Fast</th>\n",
       "      <th>on</th>\n",
       "      <th>IC</th>\n",
       "      <td>13</td>\n",
       "      <td>4</td>\n",
       "      <td>0</td>\n",
       "    </tr>\n",
       "    <tr>\n",
       "      <th>Preferred</th>\n",
       "      <th>on</th>\n",
       "      <th>IC</th>\n",
       "      <td>10</td>\n",
       "      <td>6</td>\n",
       "      <td>0</td>\n",
       "    </tr>\n",
       "    <tr>\n",
       "      <th>Slow</th>\n",
       "      <th>on</th>\n",
       "      <th>IC</th>\n",
       "      <td>12</td>\n",
       "      <td>3</td>\n",
       "      <td>0</td>\n",
       "    </tr>\n",
       "    <tr>\n",
       "      <th rowspan=\"3\" valign=\"top\">pp059</th>\n",
       "      <th>Fast</th>\n",
       "      <th>off</th>\n",
       "      <th>IC</th>\n",
       "      <td>10</td>\n",
       "      <td>0</td>\n",
       "      <td>0</td>\n",
       "    </tr>\n",
       "    <tr>\n",
       "      <th>Preferred</th>\n",
       "      <th>off</th>\n",
       "      <th>IC</th>\n",
       "      <td>11</td>\n",
       "      <td>0</td>\n",
       "      <td>0</td>\n",
       "    </tr>\n",
       "    <tr>\n",
       "      <th>Slow</th>\n",
       "      <th>off</th>\n",
       "      <th>IC</th>\n",
       "      <td>11</td>\n",
       "      <td>1</td>\n",
       "      <td>0</td>\n",
       "    </tr>\n",
       "    <tr>\n",
       "      <th rowspan=\"3\" valign=\"top\">pp069</th>\n",
       "      <th>Fast</th>\n",
       "      <th>off</th>\n",
       "      <th>IC</th>\n",
       "      <td>6</td>\n",
       "      <td>1</td>\n",
       "      <td>0</td>\n",
       "    </tr>\n",
       "    <tr>\n",
       "      <th>Preferred</th>\n",
       "      <th>off</th>\n",
       "      <th>IC</th>\n",
       "      <td>8</td>\n",
       "      <td>0</td>\n",
       "      <td>0</td>\n",
       "    </tr>\n",
       "    <tr>\n",
       "      <th>Slow</th>\n",
       "      <th>off</th>\n",
       "      <th>IC</th>\n",
       "      <td>10</td>\n",
       "      <td>0</td>\n",
       "      <td>0</td>\n",
       "    </tr>\n",
       "    <tr>\n",
       "      <th rowspan=\"6\" valign=\"top\">pp075</th>\n",
       "      <th rowspan=\"2\" valign=\"top\">Fast</th>\n",
       "      <th>off</th>\n",
       "      <th>IC</th>\n",
       "      <td>7</td>\n",
       "      <td>1</td>\n",
       "      <td>0</td>\n",
       "    </tr>\n",
       "    <tr>\n",
       "      <th>on</th>\n",
       "      <th>IC</th>\n",
       "      <td>6</td>\n",
       "      <td>1</td>\n",
       "      <td>0</td>\n",
       "    </tr>\n",
       "    <tr>\n",
       "      <th rowspan=\"2\" valign=\"top\">Preferred</th>\n",
       "      <th>off</th>\n",
       "      <th>IC</th>\n",
       "      <td>8</td>\n",
       "      <td>2</td>\n",
       "      <td>0</td>\n",
       "    </tr>\n",
       "    <tr>\n",
       "      <th>on</th>\n",
       "      <th>IC</th>\n",
       "      <td>7</td>\n",
       "      <td>2</td>\n",
       "      <td>0</td>\n",
       "    </tr>\n",
       "    <tr>\n",
       "      <th rowspan=\"2\" valign=\"top\">Slow</th>\n",
       "      <th>off</th>\n",
       "      <th>IC</th>\n",
       "      <td>11</td>\n",
       "      <td>0</td>\n",
       "      <td>0</td>\n",
       "    </tr>\n",
       "    <tr>\n",
       "      <th>on</th>\n",
       "      <th>IC</th>\n",
       "      <td>9</td>\n",
       "      <td>2</td>\n",
       "      <td>0</td>\n",
       "    </tr>\n",
       "    <tr>\n",
       "      <th rowspan=\"6\" valign=\"top\">pp102</th>\n",
       "      <th rowspan=\"2\" valign=\"top\">Fast</th>\n",
       "      <th>off</th>\n",
       "      <th>IC</th>\n",
       "      <td>6</td>\n",
       "      <td>1</td>\n",
       "      <td>0</td>\n",
       "    </tr>\n",
       "    <tr>\n",
       "      <th>on</th>\n",
       "      <th>IC</th>\n",
       "      <td>6</td>\n",
       "      <td>1</td>\n",
       "      <td>0</td>\n",
       "    </tr>\n",
       "    <tr>\n",
       "      <th rowspan=\"2\" valign=\"top\">Preferred</th>\n",
       "      <th>off</th>\n",
       "      <th>IC</th>\n",
       "      <td>7</td>\n",
       "      <td>1</td>\n",
       "      <td>0</td>\n",
       "    </tr>\n",
       "    <tr>\n",
       "      <th>on</th>\n",
       "      <th>IC</th>\n",
       "      <td>5</td>\n",
       "      <td>3</td>\n",
       "      <td>0</td>\n",
       "    </tr>\n",
       "    <tr>\n",
       "      <th rowspan=\"2\" valign=\"top\">Slow</th>\n",
       "      <th>off</th>\n",
       "      <th>IC</th>\n",
       "      <td>9</td>\n",
       "      <td>0</td>\n",
       "      <td>0</td>\n",
       "    </tr>\n",
       "    <tr>\n",
       "      <th>on</th>\n",
       "      <th>IC</th>\n",
       "      <td>7</td>\n",
       "      <td>2</td>\n",
       "      <td>0</td>\n",
       "    </tr>\n",
       "    <tr>\n",
       "      <th rowspan=\"3\" valign=\"top\">pp113</th>\n",
       "      <th>Fast</th>\n",
       "      <th>off</th>\n",
       "      <th>IC</th>\n",
       "      <td>6</td>\n",
       "      <td>2</td>\n",
       "      <td>0</td>\n",
       "    </tr>\n",
       "    <tr>\n",
       "      <th>Preferred</th>\n",
       "      <th>off</th>\n",
       "      <th>IC</th>\n",
       "      <td>10</td>\n",
       "      <td>0</td>\n",
       "      <td>0</td>\n",
       "    </tr>\n",
       "    <tr>\n",
       "      <th>Slow</th>\n",
       "      <th>off</th>\n",
       "      <th>IC</th>\n",
       "      <td>11</td>\n",
       "      <td>0</td>\n",
       "      <td>0</td>\n",
       "    </tr>\n",
       "    <tr>\n",
       "      <th rowspan=\"3\" valign=\"top\">pp140</th>\n",
       "      <th>Fast</th>\n",
       "      <th>on</th>\n",
       "      <th>IC</th>\n",
       "      <td>7</td>\n",
       "      <td>1</td>\n",
       "      <td>0</td>\n",
       "    </tr>\n",
       "    <tr>\n",
       "      <th>Preferred</th>\n",
       "      <th>on</th>\n",
       "      <th>IC</th>\n",
       "      <td>8</td>\n",
       "      <td>1</td>\n",
       "      <td>0</td>\n",
       "    </tr>\n",
       "    <tr>\n",
       "      <th>Slow</th>\n",
       "      <th>on</th>\n",
       "      <th>IC</th>\n",
       "      <td>12</td>\n",
       "      <td>1</td>\n",
       "      <td>0</td>\n",
       "    </tr>\n",
       "  </tbody>\n",
       "</table>\n",
       "</div>"
      ],
      "text/plain": [
       "                                tp  fn  fp\n",
       "sub   task      run event_type            \n",
       "pp022 Fast      off IC           7   0   0\n",
       "                on  IC           6   1   0\n",
       "      Preferred off IC           7   0   0\n",
       "                on  IC           6   2   0\n",
       "      Slow      on  IC           9   0   0\n",
       "pp046 Fast      off IC           5   6   0\n",
       "                on  IC           9   2   0\n",
       "      Preferred off IC           8   5   0\n",
       "                on  IC          11   0   0\n",
       "      Slow      off IC          14   0   0\n",
       "                on  IC          12   0   0\n",
       "pp053 Fast      on  IC          13   4   0\n",
       "      Preferred on  IC          10   6   0\n",
       "      Slow      on  IC          12   3   0\n",
       "pp059 Fast      off IC          10   0   0\n",
       "      Preferred off IC          11   0   0\n",
       "      Slow      off IC          11   1   0\n",
       "pp069 Fast      off IC           6   1   0\n",
       "      Preferred off IC           8   0   0\n",
       "      Slow      off IC          10   0   0\n",
       "pp075 Fast      off IC           7   1   0\n",
       "                on  IC           6   1   0\n",
       "      Preferred off IC           8   2   0\n",
       "                on  IC           7   2   0\n",
       "      Slow      off IC          11   0   0\n",
       "                on  IC           9   2   0\n",
       "pp102 Fast      off IC           6   1   0\n",
       "                on  IC           6   1   0\n",
       "      Preferred off IC           7   1   0\n",
       "                on  IC           5   3   0\n",
       "      Slow      off IC           9   0   0\n",
       "                on  IC           7   2   0\n",
       "pp113 Fast      off IC           6   2   0\n",
       "      Preferred off IC          10   0   0\n",
       "      Slow      off IC          11   0   0\n",
       "pp140 Fast      on  IC           7   1   0\n",
       "      Preferred on  IC           8   1   0\n",
       "      Slow      on  IC          12   1   0"
      ]
     },
     "execution_count": 16,
     "metadata": {},
     "output_type": "execute_result"
    }
   ],
   "source": [
    "df_ic[[\"sub\", \"task\", \"run\", \"event_type\", \"tp\", \"fn\", \"fp\"]].groupby([\"sub\", \"task\", \"run\", \"event_type\"]).sum()"
   ]
  },
  {
   "cell_type": "code",
   "execution_count": null,
   "metadata": {},
   "outputs": [
    {
     "ename": "NameError",
     "evalue": "name 'df' is not defined",
     "output_type": "error",
     "traceback": [
      "\u001b[0;31m---------------------------------------------------------------------------\u001b[0m",
      "\u001b[0;31mNameError\u001b[0m                                 Traceback (most recent call last)",
      "\u001b[1;32m/home/robbin/Projects/my-gait-events-tcn/test/results.ipynb Cell 18'\u001b[0m in \u001b[0;36m<module>\u001b[0;34m\u001b[0m\n\u001b[0;32m----> <a href='vscode-notebook-cell:/home/robbin/Projects/my-gait-events-tcn/test/results.ipynb#ch0000017?line=0'>1</a>\u001b[0m \u001b[39mprint\u001b[39m(\u001b[39mlen\u001b[39m(df[\u001b[39m\"\u001b[39m\u001b[39msub\u001b[39m\u001b[39m\"\u001b[39m]\u001b[39m.\u001b[39munique()))\n",
      "\u001b[0;31mNameError\u001b[0m: name 'df' is not defined"
     ]
    }
   ],
   "source": [
    "print(len(df[\"sub\"].unique()))"
   ]
  },
  {
   "cell_type": "markdown",
   "metadata": {},
   "source": [
    "## Time error"
   ]
  },
  {
   "cell_type": "code",
   "execution_count": 17,
   "metadata": {},
   "outputs": [
    {
     "data": {
      "image/png": "[encoded data removed]",
      "text/plain": [
       "<Figure size 1296x432 with 1 Axes>"
      ]
     },
     "metadata": {
      "needs_background": "light"
     },
     "output_type": "display_data"
    }
   ],
   "source": [
    "fig, ax = plt.subplots(1, 1, figsize=(18, 6))\n",
    "sns.boxplot(ax=ax, data=df_ic, x=\"participant_type\", y=\"diff\", hue=\"task\")\n",
    "plt.show()"
   ]
  },
  {
   "cell_type": "code",
   "execution_count": 18,
   "metadata": {},
   "outputs": [
    {
     "data": {
      "text/plain": [
       "count    1292.000000\n",
       "mean       -0.962074\n",
       "std         6.355779\n",
       "min      -104.000000\n",
       "25%        -3.000000\n",
       "50%        -1.000000\n",
       "75%         1.000000\n",
       "max        82.000000\n",
       "Name: diff, dtype: float64"
      ]
     },
     "execution_count": 18,
     "metadata": {},
     "output_type": "execute_result"
    }
   ],
   "source": [
    "df_ic[\"diff\"].describe()"
   ]
  },
  {
   "cell_type": "code",
   "execution_count": 38,
   "metadata": {},
   "outputs": [
    {
     "data": {
      "text/plain": [
       "(-6.0, 3.0)"
      ]
     },
     "execution_count": 38,
     "metadata": {},
     "output_type": "execute_result"
    }
   ],
   "source": [
    "(df_ic[\"diff\"].quantile(0.1), df_ic[\"diff\"].quantile(0.9))"
   ]
  },
  {
   "cell_type": "code",
   "execution_count": 37,
   "metadata": {},
   "outputs": [
    {
     "data": {
      "text/html": [
       "<div>\n",
       "<style scoped>\n",
       "    .dataframe tbody tr th:only-of-type {\n",
       "        vertical-align: middle;\n",
       "    }\n",
       "\n",
       "    .dataframe tbody tr th {\n",
       "        vertical-align: top;\n",
       "    }\n",
       "\n",
       "    .dataframe thead th {\n",
       "        text-align: right;\n",
       "    }\n",
       "</style>\n",
       "<table border=\"1\" class=\"dataframe\">\n",
       "  <thead>\n",
       "    <tr style=\"text-align: right;\">\n",
       "      <th></th>\n",
       "      <th>sub</th>\n",
       "      <th>gender</th>\n",
       "      <th>participant_type</th>\n",
       "      <th>task</th>\n",
       "      <th>run</th>\n",
       "      <th>side</th>\n",
       "      <th>event_type</th>\n",
       "      <th>ix_ref</th>\n",
       "      <th>ix_pred</th>\n",
       "      <th>diff</th>\n",
       "      <th>tp</th>\n",
       "      <th>fp</th>\n",
       "      <th>fn</th>\n",
       "      <th>checksum</th>\n",
       "    </tr>\n",
       "  </thead>\n",
       "  <tbody>\n",
       "    <tr>\n",
       "      <th>97</th>\n",
       "      <td>pp012</td>\n",
       "      <td>M</td>\n",
       "      <td>other</td>\n",
       "      <td>Slow</td>\n",
       "      <td>NaN</td>\n",
       "      <td>left</td>\n",
       "      <td>IC</td>\n",
       "      <td>711.0</td>\n",
       "      <td>718.0</td>\n",
       "      <td>-7.0</td>\n",
       "      <td>1</td>\n",
       "      <td>0</td>\n",
       "      <td>0</td>\n",
       "      <td>1</td>\n",
       "    </tr>\n",
       "    <tr>\n",
       "      <th>102</th>\n",
       "      <td>pp012</td>\n",
       "      <td>M</td>\n",
       "      <td>other</td>\n",
       "      <td>Slow</td>\n",
       "      <td>NaN</td>\n",
       "      <td>left</td>\n",
       "      <td>IC</td>\n",
       "      <td>1814.0</td>\n",
       "      <td>1824.0</td>\n",
       "      <td>-10.0</td>\n",
       "      <td>1</td>\n",
       "      <td>0</td>\n",
       "      <td>0</td>\n",
       "      <td>1</td>\n",
       "    </tr>\n",
       "    <tr>\n",
       "      <th>322</th>\n",
       "      <td>pp025</td>\n",
       "      <td>M</td>\n",
       "      <td>stroke</td>\n",
       "      <td>Fast</td>\n",
       "      <td>NaN</td>\n",
       "      <td>right</td>\n",
       "      <td>IC</td>\n",
       "      <td>499.0</td>\n",
       "      <td>508.0</td>\n",
       "      <td>-9.0</td>\n",
       "      <td>1</td>\n",
       "      <td>0</td>\n",
       "      <td>0</td>\n",
       "      <td>1</td>\n",
       "    </tr>\n",
       "    <tr>\n",
       "      <th>443</th>\n",
       "      <td>pp029</td>\n",
       "      <td>M</td>\n",
       "      <td>MS</td>\n",
       "      <td>Preferred</td>\n",
       "      <td>NaN</td>\n",
       "      <td>left</td>\n",
       "      <td>IC</td>\n",
       "      <td>292.0</td>\n",
       "      <td>299.0</td>\n",
       "      <td>-7.0</td>\n",
       "      <td>1</td>\n",
       "      <td>0</td>\n",
       "      <td>0</td>\n",
       "      <td>1</td>\n",
       "    </tr>\n",
       "    <tr>\n",
       "      <th>455</th>\n",
       "      <td>pp029</td>\n",
       "      <td>M</td>\n",
       "      <td>MS</td>\n",
       "      <td>Preferred</td>\n",
       "      <td>NaN</td>\n",
       "      <td>right</td>\n",
       "      <td>IC</td>\n",
       "      <td>962.0</td>\n",
       "      <td>971.0</td>\n",
       "      <td>-9.0</td>\n",
       "      <td>1</td>\n",
       "      <td>0</td>\n",
       "      <td>0</td>\n",
       "      <td>1</td>\n",
       "    </tr>\n",
       "    <tr>\n",
       "      <th>...</th>\n",
       "      <td>...</td>\n",
       "      <td>...</td>\n",
       "      <td>...</td>\n",
       "      <td>...</td>\n",
       "      <td>...</td>\n",
       "      <td>...</td>\n",
       "      <td>...</td>\n",
       "      <td>...</td>\n",
       "      <td>...</td>\n",
       "      <td>...</td>\n",
       "      <td>...</td>\n",
       "      <td>...</td>\n",
       "      <td>...</td>\n",
       "      <td>...</td>\n",
       "    </tr>\n",
       "    <tr>\n",
       "      <th>2616</th>\n",
       "      <td>pp140</td>\n",
       "      <td>M</td>\n",
       "      <td>PD</td>\n",
       "      <td>Slow</td>\n",
       "      <td>on</td>\n",
       "      <td>right</td>\n",
       "      <td>IC</td>\n",
       "      <td>1252.0</td>\n",
       "      <td>1259.0</td>\n",
       "      <td>-7.0</td>\n",
       "      <td>1</td>\n",
       "      <td>0</td>\n",
       "      <td>0</td>\n",
       "      <td>1</td>\n",
       "    </tr>\n",
       "    <tr>\n",
       "      <th>2617</th>\n",
       "      <td>pp140</td>\n",
       "      <td>M</td>\n",
       "      <td>PD</td>\n",
       "      <td>Slow</td>\n",
       "      <td>on</td>\n",
       "      <td>right</td>\n",
       "      <td>IC</td>\n",
       "      <td>1556.0</td>\n",
       "      <td>1568.0</td>\n",
       "      <td>-12.0</td>\n",
       "      <td>1</td>\n",
       "      <td>0</td>\n",
       "      <td>0</td>\n",
       "      <td>1</td>\n",
       "    </tr>\n",
       "    <tr>\n",
       "      <th>2673</th>\n",
       "      <td>pp149</td>\n",
       "      <td>M</td>\n",
       "      <td>stroke</td>\n",
       "      <td>Slow</td>\n",
       "      <td>NaN</td>\n",
       "      <td>right</td>\n",
       "      <td>IC</td>\n",
       "      <td>1876.0</td>\n",
       "      <td>1909.0</td>\n",
       "      <td>-33.0</td>\n",
       "      <td>1</td>\n",
       "      <td>0</td>\n",
       "      <td>0</td>\n",
       "      <td>1</td>\n",
       "    </tr>\n",
       "    <tr>\n",
       "      <th>2738</th>\n",
       "      <td>pp155</td>\n",
       "      <td>F</td>\n",
       "      <td>MS</td>\n",
       "      <td>Fast</td>\n",
       "      <td>NaN</td>\n",
       "      <td>left</td>\n",
       "      <td>IC</td>\n",
       "      <td>34.0</td>\n",
       "      <td>138.0</td>\n",
       "      <td>-104.0</td>\n",
       "      <td>1</td>\n",
       "      <td>0</td>\n",
       "      <td>0</td>\n",
       "      <td>1</td>\n",
       "    </tr>\n",
       "    <tr>\n",
       "      <th>2852</th>\n",
       "      <td>pp156</td>\n",
       "      <td>F</td>\n",
       "      <td>MS</td>\n",
       "      <td>Slow</td>\n",
       "      <td>NaN</td>\n",
       "      <td>left</td>\n",
       "      <td>IC</td>\n",
       "      <td>1435.0</td>\n",
       "      <td>1445.0</td>\n",
       "      <td>-10.0</td>\n",
       "      <td>1</td>\n",
       "      <td>0</td>\n",
       "      <td>0</td>\n",
       "      <td>1</td>\n",
       "    </tr>\n",
       "  </tbody>\n",
       "</table>\n",
       "<p>107 rows × 14 columns</p>\n",
       "</div>"
      ],
      "text/plain": [
       "        sub gender participant_type       task  run   side event_type  ix_ref  \\\n",
       "97    pp012      M            other       Slow  NaN   left         IC   711.0   \n",
       "102   pp012      M            other       Slow  NaN   left         IC  1814.0   \n",
       "322   pp025      M           stroke       Fast  NaN  right         IC   499.0   \n",
       "443   pp029      M               MS  Preferred  NaN   left         IC   292.0   \n",
       "455   pp029      M               MS  Preferred  NaN  right         IC   962.0   \n",
       "...     ...    ...              ...        ...  ...    ...        ...     ...   \n",
       "2616  pp140      M               PD       Slow   on  right         IC  1252.0   \n",
       "2617  pp140      M               PD       Slow   on  right         IC  1556.0   \n",
       "2673  pp149      M           stroke       Slow  NaN  right         IC  1876.0   \n",
       "2738  pp155      F               MS       Fast  NaN   left         IC    34.0   \n",
       "2852  pp156      F               MS       Slow  NaN   left         IC  1435.0   \n",
       "\n",
       "      ix_pred   diff  tp  fp  fn  checksum  \n",
       "97      718.0   -7.0   1   0   0         1  \n",
       "102    1824.0  -10.0   1   0   0         1  \n",
       "322     508.0   -9.0   1   0   0         1  \n",
       "443     299.0   -7.0   1   0   0         1  \n",
       "455     971.0   -9.0   1   0   0         1  \n",
       "...       ...    ...  ..  ..  ..       ...  \n",
       "2616   1259.0   -7.0   1   0   0         1  \n",
       "2617   1568.0  -12.0   1   0   0         1  \n",
       "2673   1909.0  -33.0   1   0   0         1  \n",
       "2738    138.0 -104.0   1   0   0         1  \n",
       "2852   1445.0  -10.0   1   0   0         1  \n",
       "\n",
       "[107 rows x 14 columns]"
      ]
     },
     "execution_count": 37,
     "metadata": {},
     "output_type": "execute_result"
    }
   ],
   "source": [
    "df_ic.loc[df_ic[\"diff\"]<df_ic[\"diff\"].quantile(0.1)]"
   ]
  },
  {
   "cell_type": "code",
   "execution_count": 36,
   "metadata": {},
   "outputs": [
    {
     "name": "stderr",
     "output_type": "stream",
     "text": [
      "/home/robbin/Projects/my-gait-events-tcn/venv/lib/python3.8/site-packages/seaborn/distributions.py:2619: FutureWarning: `distplot` is a deprecated function and will be removed in a future version. Please adapt your code to use either `displot` (a figure-level function with similar flexibility) or `histplot` (an axes-level function for histograms).\n",
      "  warnings.warn(msg, FutureWarning)\n"
     ]
    },
    {
     "data": {
      "text/plain": [
       "(-25.0, 25.0)"
      ]
     },
     "execution_count": 36,
     "metadata": {},
     "output_type": "execute_result"
    },
    {
     "data": {
      "image/png": "[encoded data removed]",
      "text/plain": [
       "<Figure size 432x288 with 1 Axes>"
      ]
     },
     "metadata": {
      "needs_background": "light"
     },
     "output_type": "display_data"
    }
   ],
   "source": [
    "fig, ax = plt.subplots(1, 1)\n",
    "sns.distplot(df_ic['diff'], bins=100)\n",
    "ax.set_xlim([-25, 25])"
   ]
  },
  {
   "cell_type": "code",
   "execution_count": null,
   "metadata": {},
   "outputs": [],
   "source": []
  }
 ],
 "metadata": {
  "interpreter": {
   "hash": "916dbcbb3f70747c44a77c7bcd40155683ae19c65e1c03b4aa3499c5328201f1"
  },
  "kernelspec": {
   "display_name": "Python 3.8.10 64-bit",
   "language": "python",
   "name": "python3"
  },
  "language_info": {
   "codemirror_mode": {
    "name": "ipython",
    "version": 3
   },
   "file_extension": ".py",
   "mimetype": "text/x-python",
   "name": "python",
   "nbconvert_exporter": "python",
   "pygments_lexer": "ipython3",
   "version": "3.8.10"
  },
  "orig_nbformat": 4
 },
 "nbformat": 4,
 "nbformat_minor": 2
}
