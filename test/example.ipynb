{
 "cells": [
  {
   "cell_type": "code",
   "execution_count": 6,
   "metadata": {},
   "outputs": [],
   "source": [
    "import os, sys\n",
    "os.environ['TF_CPP_MIN_LOG_LEVEL'] = '2'\n",
    "import pandas as pd\n",
    "import numpy as np\n",
    "import matplotlib as mpl\n",
    "import matplotlib.pyplot as plt\n",
    "from utils.data_utils import load_dataset ,load_file, split_ids\n",
    "from utils.plot_utils import plot_targets\n",
    "from utils.preprocessing import create_batch_sequences, create_sequences\n",
    "from utils.evaluate import compare_events\n",
    "from scipy.signal import find_peaks\n",
    "np.random.seed(123)"
   ]
  },
  {
   "cell_type": "markdown",
   "metadata": {},
   "source": [
    "For each valid trial, the relevant data and information are saved in **five** different data files:\n",
    "- sub-\\<label\\>_task-\\<label\\>[_run-\\<label\\>]_events.tsv\n",
    "- sub-\\<label\\>_task-\\<label\\>[_run-\\<label\\>]_tracksys-imu_channels.tsv\n",
    "- sub-\\<label\\>_task-\\<label\\>[_run-\\<label\\>]_tracksys-imu_motion.tsv\n",
    "- sub-\\<label\\>_task-\\<label\\>[_run-\\<label\\>]_tracksys-omc_channels.tsv\n",
    "- sub-\\<label\\>_task-\\<label\\>[_run-\\<label\\>]_tracksys-omc_motion.tsv\n",
    "\n",
    "As we only consinder **walk** trials, we can look for any **_events.tsv** file that contains **_task-walk** in the filename."
   ]
  },
  {
   "cell_type": "markdown",
   "metadata": {},
   "source": [
    "## Get data"
   ]
  },
  {
   "cell_type": "code",
   "execution_count": 2,
   "metadata": {},
   "outputs": [
    {
     "name": "stdout",
     "output_type": "stream",
     "text": [
      "# of subjects in train set: 62\t['sub-pp147', 'sub-pp039', 'sub-pp135', 'sub-pp157', 'sub-pp106']\n",
      "# of subjects in val set: 49\t['sub-pp047', 'sub-pp153', 'sub-pp168', 'sub-pp125', 'sub-pp010']\n",
      "# of subjects in test set: 49\t['sub-pp156', 'sub-pp155', 'sub-pp167', 'sub-pp126', 'sub-pp165']\n"
     ]
    }
   ],
   "source": [
    "# Set root directory\n",
    "root_dir = \"/mnt/neurogeriatrics_data/Keep Control/Data/lab dataset/rawdata\" if sys.platform == \"linux\" else \"Z:\\\\Keep Control\\\\Data\\\\lab dataset\\\\rawdata\"\n",
    "\n",
    "# Split subjects into a train, validation, and test set\n",
    "train_ids, val_ids, test_ids = split_ids(root_dir, by=[\"gender\", \"participant_type\"])\n",
    "print(f\"# of subjects in train set: {len(train_ids):d}\\t{train_ids[:5]}\")\n",
    "print(f\"# of subjects in val set: {len(val_ids):d}\\t{val_ids[:5]}\")\n",
    "print(f\"# of subjects in test set: {len(test_ids):d}\\t{test_ids[:5]}\")"
   ]
  },
  {
   "cell_type": "code",
   "execution_count": 3,
   "metadata": {},
   "outputs": [
    {
     "name": "stdout",
     "output_type": "stream",
     "text": [
      "/mnt/neurogeriatrics_data/Keep Control/Data/lab dataset/rawdata/sub-pp164/motion/sub-pp164_task-walkFast_events.tsv contains no data for (at least) the left_ankle sensor. Skip file.\n",
      "/mnt/neurogeriatrics_data/Keep Control/Data/lab dataset/rawdata/sub-pp164/motion/sub-pp164_task-walkPreferred_events.tsv contains no data for (at least) the left_ankle sensor. Skip file.\n",
      "/mnt/neurogeriatrics_data/Keep Control/Data/lab dataset/rawdata/sub-pp164/motion/sub-pp164_task-walkSlow_events.tsv contains no data for (at least) the left_ankle sensor. Skip file.\n",
      "/mnt/neurogeriatrics_data/Keep Control/Data/lab dataset/rawdata/sub-pp163/motion/sub-pp163_task-walkFast_events.tsv contains no data for (at least) the left_ankle sensor. Skip file.\n",
      "/mnt/neurogeriatrics_data/Keep Control/Data/lab dataset/rawdata/sub-pp163/motion/sub-pp163_task-walkPreferred_events.tsv contains no data for (at least) the left_ankle sensor. Skip file.\n",
      "/mnt/neurogeriatrics_data/Keep Control/Data/lab dataset/rawdata/sub-pp163/motion/sub-pp163_task-walkSlow_events.tsv contains no data for (at least) the left_ankle sensor. Skip file.\n",
      "/mnt/neurogeriatrics_data/Keep Control/Data/lab dataset/rawdata/sub-pp162/motion/sub-pp162_task-walkFast_events.tsv contains no data for (at least) the left_ankle sensor. Skip file.\n",
      "/mnt/neurogeriatrics_data/Keep Control/Data/lab dataset/rawdata/sub-pp162/motion/sub-pp162_task-walkPreferred_events.tsv contains no data for (at least) the left_ankle sensor. Skip file.\n",
      "/mnt/neurogeriatrics_data/Keep Control/Data/lab dataset/rawdata/sub-pp162/motion/sub-pp162_task-walkSlow_events.tsv contains no data for (at least) the left_ankle sensor. Skip file.\n"
     ]
    }
   ],
   "source": [
    "# Get datasets\n",
    "ds_train = load_dataset(root_dir, sub_ids=train_ids, tracked_points=[\"left_ankle\", \"right_ankle\"], normalize=True)\n",
    "ds_val = load_dataset(root_dir, sub_ids=val_ids, tracked_points=[\"left_ankle\", \"right_ankle\"], normalize=True)\n",
    "ds_test = load_dataset(root_dir, sub_ids=test_ids, tracked_points=[\"left_ankle\", \"right_ankle\"], normalize=True)"
   ]
  },
  {
   "cell_type": "code",
   "execution_count": 4,
   "metadata": {},
   "outputs": [],
   "source": [
    "# Create batches of input examples of equal length\n",
    "WIN_LEN = 400\n",
    "STEP_LEN = 200\n",
    "train_data, train_targets, train_examples = create_batch_sequences(ds_train, win_len=WIN_LEN, step_len=STEP_LEN)\n",
    "val_data, val_targets, val_examples = create_batch_sequences(ds_val, win_len=WIN_LEN, step_len=STEP_LEN)"
   ]
  },
  {
   "cell_type": "markdown",
   "metadata": {},
   "source": [
    "## Build model"
   ]
  },
  {
   "cell_type": "code",
   "execution_count": 5,
   "metadata": {},
   "outputs": [],
   "source": [
    "from tensorflow import keras\n",
    "from tcn import TCN, tcn_full_summary"
   ]
  },
  {
   "cell_type": "code",
   "execution_count": 8,
   "metadata": {},
   "outputs": [],
   "source": [
    "def build_model(input_dim, target_classes):\n",
    "    # Define layers\n",
    "    inputs = keras.layers.Input(shape=(None, input_dim), name=\"inputs\")\n",
    "    tcn = TCN(nb_filters=16, kernel_size=5, nb_stacks=1, dilations=[1, 2], padding=\"same\", use_skip_connections=True, use_batch_norm=True, return_sequences=True, name=\"tcn\")(inputs)\n",
    "    outputs = []\n",
    "    for i in range(len(target_classes)):\n",
    "        outputs.append(keras.layers.Dense(units=1, activation=\"sigmoid\", name=target_classes[i])(tcn))\n",
    "    \n",
    "    # Instantiate model\n",
    "    model = keras.models.Model(inputs=inputs, outputs=outputs, name=\"tcn_model\")\n",
    "\n",
    "    # Compile\n",
    "    model.compile(loss=keras.losses.MeanSquaredError(), optimizer=keras.optimizers.Adam(learning_rate=0.001))\n",
    "    return model"
   ]
  },
  {
   "cell_type": "code",
   "execution_count": 9,
   "metadata": {},
   "outputs": [
    {
     "name": "stdout",
     "output_type": "stream",
     "text": [
      "Model: \"tcn_model\"\n",
      "__________________________________________________________________________________________________\n",
      " Layer (type)                   Output Shape         Param #     Connected to                     \n",
      "==================================================================================================\n",
      " inputs (InputLayer)            [(None, None, 9)]    0           []                               \n",
      "                                                                                                  \n",
      " tcn (TCN)                      (None, None, 16)     5040        ['inputs[0][0]']                 \n",
      "                                                                                                  \n",
      " initial_contact (Dense)        (None, None, 1)      17          ['tcn[0][0]']                    \n",
      "                                                                                                  \n",
      " final_contact (Dense)          (None, None, 1)      17          ['tcn[0][0]']                    \n",
      "                                                                                                  \n",
      "==================================================================================================\n",
      "Total params: 5,074\n",
      "Trainable params: 4,946\n",
      "Non-trainable params: 128\n",
      "__________________________________________________________________________________________________\n"
     ]
    }
   ],
   "source": [
    "model = build_model(train_data.shape[-1], target_classes=list(train_targets.keys()))\n",
    "model.summary()"
   ]
  },
  {
   "cell_type": "code",
   "execution_count": 10,
   "metadata": {},
   "outputs": [
    {
     "name": "stdout",
     "output_type": "stream",
     "text": [
      "Epoch 1/5\n",
      "211/211 [==============================] - 5s 9ms/step - loss: 0.1434 - initial_contact_loss: 0.0361 - final_contact_loss: 0.1073 - val_loss: 0.0457 - val_initial_contact_loss: 0.0216 - val_final_contact_loss: 0.0241\n",
      "Epoch 2/5\n",
      "211/211 [==============================] - 1s 5ms/step - loss: 0.0251 - initial_contact_loss: 0.0114 - final_contact_loss: 0.0137 - val_loss: 0.0252 - val_initial_contact_loss: 0.0121 - val_final_contact_loss: 0.0131\n",
      "Epoch 3/5\n",
      "211/211 [==============================] - 1s 5ms/step - loss: 0.0190 - initial_contact_loss: 0.0095 - final_contact_loss: 0.0095 - val_loss: 0.0213 - val_initial_contact_loss: 0.0106 - val_final_contact_loss: 0.0107\n",
      "Epoch 4/5\n",
      "211/211 [==============================] - 2s 7ms/step - loss: 0.0167 - initial_contact_loss: 0.0086 - final_contact_loss: 0.0081 - val_loss: 0.0198 - val_initial_contact_loss: 0.0099 - val_final_contact_loss: 0.0099\n",
      "Epoch 5/5\n",
      "211/211 [==============================] - 1s 7ms/step - loss: 0.0154 - initial_contact_loss: 0.0081 - final_contact_loss: 0.0073 - val_loss: 0.0191 - val_initial_contact_loss: 0.0096 - val_final_contact_loss: 0.0095\n"
     ]
    }
   ],
   "source": [
    "history = model.fit(x=train_data, y=train_targets, batch_size=8, epochs=5, validation_data=(val_data, val_targets))"
   ]
  },
  {
   "cell_type": "markdown",
   "metadata": {},
   "source": [
    "### Evaluate on test set"
   ]
  },
  {
   "cell_type": "code",
   "execution_count": 37,
   "metadata": {},
   "outputs": [],
   "source": [
    "def fancy_plot(ds_test, ix_sub_id, predictions, ix_IC_pred, ix_FC_pred):\n",
    "    cm = 1/2.54\n",
    "\n",
    "    fig, axs = plt.subplots(1+len(ds_test[ix_sub_id][\"targets\"].keys()), 1, figsize=(16*cm, 9*cm), sharex=True, gridspec_kw={\"height_ratios\": [3, 1, 1]})\n",
    "    axs[0].plot(np.arange(ds_test[ix_sub_id][\"data\"].shape[0]), ds_test[ix_sub_id][\"data\"][:,5], ls=\"-\", c=(0, 0, 0), alpha=0.3)\n",
    "    axs[0].plot(np.argwhere(ds_test[ix_sub_id][\"targets\"][\"initial_contact\"]==1)[:,0], ds_test[ix_sub_id][\"data\"][np.argwhere(ds_test[ix_sub_id][\"targets\"][\"initial_contact\"]==1)[:,0],5], ls=\"none\", marker=\"o\", mfc=\"none\", mec=(0, 0, 1))\n",
    "    axs[0].plot(np.argwhere(ds_test[ix_sub_id][\"targets\"][\"final_contact\"]==1)[:,0], ds_test[ix_sub_id][\"data\"][np.argwhere(ds_test[ix_sub_id][\"targets\"][\"final_contact\"]==1)[:,0],5], ls=\"none\", marker=\"o\", mfc=\"none\", mec=(0, 0.65, 0))\n",
    "    axs[0].xaxis.set_minor_locator(plt.MultipleLocator(10))\n",
    "    axs[0].grid(which=\"both\", axis=\"both\", c=(0, 0, 0), alpha=0.1, ls=\":\")\n",
    "    axs[0].set_xlim([0, ds_test[ix_sub_id][\"data\"].shape[0]])\n",
    "\n",
    "    axs[1].plot(np.arange(ds_test[ix_sub_id][\"targets\"][\"initial_contact\"].shape[0]), ds_test[ix_sub_id][\"targets\"][\"initial_contact\"][:,0], ls=\"-\", c=(0, 0, 1), lw=2, alpha=0.2)\n",
    "    axs[1].plot(np.arange(predictions[0][0].shape[0]), predictions[0][0][:,0], ls=\"-\", lw=1, c=(0, 0, 1))\n",
    "    axs[1].plot(ix_IC_pred, predictions[0][0][ix_IC_pred,0], ls=\"none\", marker=\"o\", mfc=\"none\", mec=(0, 0, 1))\n",
    "    axs[1].set_ylim([0.1, 1.1])\n",
    "    axs[1].set_yticks([0, 1])\n",
    "    axs[1].set_ylabel(\"Pr(IC)\")\n",
    "    axs[1].yaxis.set_minor_locator(plt.MultipleLocator(0.25))\n",
    "    axs[1].grid(which=\"both\", axis=\"both\", c=(0, 0, 0), alpha=0.1, ls=\":\")\n",
    "\n",
    "    axs[2].plot(np.arange(ds_test[ix_sub_id][\"targets\"][\"final_contact\"].shape[0]), ds_test[ix_sub_id][\"targets\"][\"final_contact\"][:,0], ls=\"-\", c=(0, 0.65, 0), lw=2, alpha=0.2)\n",
    "    axs[2].plot(np.arange(predictions[1][0].shape[0]), predictions[1][0][:,0], ls=\"-\", lw=1, c=(0, 0.65, 0))\n",
    "    axs[2].plot(ix_FC_pred, predictions[1][0][ix_FC_pred,0], ls=\"none\", marker=\"o\", mfc=\"none\", mec=(0, 0.65, 0))\n",
    "    axs[2].set_ylim([0.1, 1.1])\n",
    "    axs[2].set_yticks([0, 1])\n",
    "    axs[2].set_ylabel(\"Pr(FC)\")\n",
    "    axs[2].yaxis.set_minor_locator(plt.MultipleLocator(0.25))\n",
    "    axs[2].grid(which=\"both\", axis=\"both\", c=(0, 0, 0), alpha=0.1, ls=\":\")\n",
    "    axs[2].set_xlabel(\"sample\")\n",
    "\n",
    "    plt.tight_layout()\n",
    "    plt.savefig(os.path.join(\"/home/robbin/Desktop/fig/20220222\", ds_test[ix_sub_id][\"filename_prefix\"]+\"_\"+ds_test[ix_sub_id][\"left_or_right\"]+\"_predictions.png\"), dpi=300)\n",
    "    plt.close()\n",
    "    return"
   ]
  },
  {
   "cell_type": "code",
   "execution_count": 38,
   "metadata": {},
   "outputs": [],
   "source": [
    "def add_metrics(ds_test, ix_sub_id, visualize=True):\n",
    "    # Get data array\n",
    "    X = ds_test[ix_sub_id][\"data\"]\n",
    "    X = np.expand_dims(X, axis=0)\n",
    "    \n",
    "    # Predict\n",
    "    predictions = model.predict(X)\n",
    "    \n",
    "    # Get true and predicted events\n",
    "    ix_IC_true, _ = find_peaks(ds_test[ix_sub_id][\"targets\"][\"initial_contact\"][:,0], height=0.4, distance=100)\n",
    "    ix_FC_true, _ = find_peaks(ds_test[ix_sub_id][\"targets\"][\"final_contact\"][:,0], height=0.4, distance=100)\n",
    "    ix_IC_pred, _ = find_peaks(predictions[0][0][:,0], height=0.4, distance=100)\n",
    "    ix_FC_pred, _ = find_peaks(predictions[1][0][:,0], height=0.4, distance=100)\n",
    "    \n",
    "    event_type, ix_ref, ix_pred = [], [], []\n",
    "    # Initial contacts\n",
    "    ann2pred, pred2ann, dt = compare_events(ix_IC_true, ix_IC_pred)\n",
    "    for i in range(len(ix_IC_true)):\n",
    "        event_type.append(\"IC\")\n",
    "        ix_ref.append(ix_IC_true[i])\n",
    "        if ann2pred[i] > -999:\n",
    "            # print(f\"{ix_IC_true[i]:>6d} : {ix_IC_pred[ann2pred[i]]}\")\n",
    "            ix_pred.append(ix_IC_pred[ann2pred[i]])\n",
    "        else:\n",
    "            # print(f\"{ix_IC_true[i]:>6d} : {'n/a':s}\")\n",
    "            ix_pred.append(\"n/a\")\n",
    "    for j in range(len(ix_IC_pred)):\n",
    "        if pred2ann[j] == -999:\n",
    "            event_type.append(\"IC\")\n",
    "            ix_ref.append(\"n/a\")\n",
    "            ix_pred.append(ix_IC_pred[j])\n",
    "            # print(f\"{'n/a':>6s} : {ix_IC_pred[j]}\")\n",
    "            \n",
    "    # Final contacts\n",
    "    ann2pred, pred2ann, dt = compare_events(ix_FC_true, ix_FC_pred)\n",
    "    for i in range(len(ix_FC_true)):\n",
    "        event_type.append(\"FC\")\n",
    "        ix_ref.append(ix_FC_true[i])\n",
    "        if ann2pred[i] > -999:\n",
    "            # print(f\"{ix_FC_true[i]:>6d} : {ix_FC_pred[ann2pred[i]]}\")\n",
    "            ix_pred.append(ix_FC_pred[ann2pred[i]])\n",
    "        else:\n",
    "            # print(f\"{ix_FC_true[i]:>6d} : {'n/a':s}\")\n",
    "            ix_pred.append(\"n/a\")\n",
    "    for j in range(len(ix_FC_pred)):\n",
    "        if pred2ann[j] == -999:\n",
    "            event_type.append(\"FC\")\n",
    "            ix_ref.append(\"n/a\")\n",
    "            ix_pred.append(ix_FC_pred[j])\n",
    "            # print(f\"{'n/a':>6s} : {ix_FC_pred[j]}\")\n",
    "    \n",
    "    sub_id = [ds_test[ix_sub_id][\"filename_prefix\"][4:9] for _ in range(len(event_type))]\n",
    "    filenames = [ds_test[ix_sub_id][\"filename_prefix\"] for _ in range(len(event_type))]\n",
    "    side = [ds_test[ix_sub_id][\"left_or_right\"] for _ in range(len(event_type))]\n",
    "    \n",
    "    # Visualize\n",
    "    if visualize:\n",
    "        fancy_plot(ds_test=ds_test, ix_sub_id=ix_sub_id, predictions=predictions, ix_IC_pred=ix_IC_pred, ix_FC_pred=ix_FC_pred)\n",
    "    \n",
    "    return sub_id, filenames, side, event_type, ix_ref, ix_pred"
   ]
  },
  {
   "cell_type": "code",
   "execution_count": 51,
   "metadata": {},
   "outputs": [
    {
     "name": "stdout",
     "output_type": "stream",
     "text": [
      " 98: sub-pp013_task-walkSlow_left\n",
      " 99: sub-pp013_task-walkSlow_right\n",
      "100: sub-pp045_task-walkFast_left\n",
      "101: sub-pp045_task-walkFast_right\n",
      "102: sub-pp045_task-walkPreferred_left\n",
      "103: sub-pp045_task-walkPreferred_right\n",
      "104: sub-pp045_task-walkSlow_left\n",
      "105: sub-pp045_task-walkSlow_right\n",
      "106: sub-pp031_task-walkFast_left\n",
      "107: sub-pp031_task-walkFast_right\n",
      "108: sub-pp031_task-walkPreferred_left\n",
      "109: sub-pp031_task-walkPreferred_right\n",
      "110: sub-pp031_task-walkSlow_left\n",
      "111: sub-pp031_task-walkSlow_right\n",
      "112: sub-pp050_task-walkFast_left\n",
      "113: sub-pp050_task-walkFast_right\n",
      "114: sub-pp050_task-walkPreferred_left\n",
      "115: sub-pp050_task-walkPreferred_right\n",
      "116: sub-pp050_task-walkSlow_left\n",
      "117: sub-pp050_task-walkSlow_right\n",
      "118: sub-pp044_task-walkFast_left\n",
      "119: sub-pp044_task-walkFast_right\n",
      "120: sub-pp044_task-walkPreferred_left\n",
      "121: sub-pp044_task-walkPreferred_right\n",
      "122: sub-pp044_task-walkSlow_left\n",
      "123: sub-pp044_task-walkSlow_right\n",
      "124: sub-pp123_task-walkFast_left\n",
      "125: sub-pp123_task-walkFast_right\n",
      "126: sub-pp123_task-walkPreferred_left\n",
      "127: sub-pp123_task-walkPreferred_right\n",
      "128: sub-pp123_task-walkSlow_left\n",
      "129: sub-pp123_task-walkSlow_right\n",
      "130: sub-pp029_task-walkFast_left\n",
      "131: sub-pp029_task-walkFast_right\n",
      "132: sub-pp029_task-walkPreferred_left\n",
      "133: sub-pp029_task-walkPreferred_right\n",
      "134: sub-pp029_task-walkSlow_left\n",
      "135: sub-pp029_task-walkSlow_right\n",
      "136: sub-pp058_task-walkFastSchub_left\n",
      "4 gait events annotated, but none were detected\n",
      "137: sub-pp058_task-walkFastSchub_right\n",
      "138: sub-pp058_task-walkFast_left\n",
      "139: sub-pp058_task-walkFast_right\n",
      "140: sub-pp058_task-walkPreferredSchub_left\n",
      "141: sub-pp058_task-walkPreferredSchub_right\n",
      "5 gait events annotated, but none were detected\n",
      "142: sub-pp058_task-walkPreferred_left\n",
      "143: sub-pp058_task-walkPreferred_right\n",
      "144: sub-pp058_task-walkSlowSchub_left\n",
      "145: sub-pp058_task-walkSlowSchub_right\n",
      "146: sub-pp058_task-walkSlow_left\n",
      "147: sub-pp058_task-walkSlow_right\n",
      "148: sub-pp078_task-walkFast_left\n",
      "149: sub-pp078_task-walkFast_right\n",
      "150: sub-pp078_task-walkPreferred_left\n",
      "151: sub-pp078_task-walkPreferred_right\n",
      "152: sub-pp078_task-walkSlow_left\n",
      "153: sub-pp078_task-walkSlow_right\n",
      "154: sub-pp079_task-walkFast_left\n",
      "155: sub-pp079_task-walkFast_right\n",
      "156: sub-pp079_task-walkPreferred_left\n",
      "157: sub-pp079_task-walkPreferred_right\n",
      "158: sub-pp079_task-walkSlow_left\n",
      "159: sub-pp079_task-walkSlow_right\n",
      "160: sub-pp028_task-walkFast_left\n",
      "161: sub-pp028_task-walkFast_right\n",
      "162: sub-pp028_task-walkPreferred_left\n",
      "163: sub-pp028_task-walkPreferred_right\n",
      "164: sub-pp028_task-walkSlow_left\n",
      "165: sub-pp028_task-walkSlow_right\n",
      "166: sub-pp065_task-walkFast_left\n",
      "167: sub-pp065_task-walkFast_right\n",
      "168: sub-pp065_task-walkPreferred_left\n",
      "169: sub-pp065_task-walkPreferred_right\n",
      "170: sub-pp065_task-walkSlow_left\n",
      "171: sub-pp065_task-walkSlow_right\n",
      "172: sub-pp140_task-walkFast_run-on_left\n",
      "173: sub-pp140_task-walkFast_run-on_right\n",
      "174: sub-pp140_task-walkPreferred_run-on_left\n",
      "175: sub-pp140_task-walkPreferred_run-on_right\n",
      "176: sub-pp140_task-walkSlow_run-on_left\n",
      "177: sub-pp140_task-walkSlow_run-on_right\n",
      "178: sub-pp069_task-walkFast_run-off_left\n",
      "179: sub-pp069_task-walkFast_run-off_right\n",
      "180: sub-pp069_task-walkPreferred_run-off_left\n",
      "181: sub-pp069_task-walkPreferred_run-off_right\n",
      "182: sub-pp069_task-walkSlow_run-off_left\n",
      "183: sub-pp069_task-walkSlow_run-off_right\n",
      "184: sub-pp022_task-walkFast_run-off_left\n",
      "185: sub-pp022_task-walkFast_run-off_right\n",
      "186: sub-pp022_task-walkFast_run-on_left\n",
      "187: sub-pp022_task-walkFast_run-on_right\n",
      "188: sub-pp022_task-walkPreferred_run-off_left\n",
      "189: sub-pp022_task-walkPreferred_run-off_right\n",
      "190: sub-pp022_task-walkPreferred_run-on_left\n",
      "191: sub-pp022_task-walkPreferred_run-on_right\n",
      "192: sub-pp022_task-walkSlow_run-off_left\n"
     ]
    },
    {
     "ename": "ValueError",
     "evalue": "operands could not be broadcast together with shapes (3,) (4,) ",
     "output_type": "error",
     "traceback": [
      "\u001b[0;31m---------------------------------------------------------------------------\u001b[0m",
      "\u001b[0;31mValueError\u001b[0m                                Traceback (most recent call last)",
      "\u001b[1;32m/home/robbin/Projects/my-gait-events-tcn/test/example.ipynb Cell 15'\u001b[0m in \u001b[0;36m<module>\u001b[0;34m\u001b[0m\n\u001b[1;32m      <a href='vscode-notebook-cell:/home/robbin/Projects/my-gait-events-tcn/test/example.ipynb#ch0000024?line=1'>2</a>\u001b[0m \u001b[39mfor\u001b[39;00m i \u001b[39min\u001b[39;00m \u001b[39mrange\u001b[39m(\u001b[39m98\u001b[39m, \u001b[39mlen\u001b[39m(ds_test)):\n\u001b[1;32m      <a href='vscode-notebook-cell:/home/robbin/Projects/my-gait-events-tcn/test/example.ipynb#ch0000024?line=2'>3</a>\u001b[0m     \u001b[39mprint\u001b[39m(\u001b[39mf\u001b[39m\u001b[39m\"\u001b[39m\u001b[39m{\u001b[39;00mi\u001b[39m:\u001b[39;00m\u001b[39m>3d\u001b[39m\u001b[39m}\u001b[39;00m\u001b[39m: \u001b[39m\u001b[39m{\u001b[39;00mds_test[i][\u001b[39m'\u001b[39m\u001b[39mfilename_prefix\u001b[39m\u001b[39m'\u001b[39m]\u001b[39m+\u001b[39m\u001b[39m'\u001b[39m\u001b[39m_\u001b[39m\u001b[39m'\u001b[39m\u001b[39m+\u001b[39mds_test[i][\u001b[39m'\u001b[39m\u001b[39mleft_or_right\u001b[39m\u001b[39m'\u001b[39m]\u001b[39m:\u001b[39;00m\u001b[39ms\u001b[39m\u001b[39m}\u001b[39;00m\u001b[39m\"\u001b[39m)\n\u001b[0;32m----> <a href='vscode-notebook-cell:/home/robbin/Projects/my-gait-events-tcn/test/example.ipynb#ch0000024?line=3'>4</a>\u001b[0m     sub_id, filename, side, event_type, ix_ref, ix_pred \u001b[39m=\u001b[39m add_metrics(ds_test, ix_sub_id\u001b[39m=\u001b[39;49mi)\n\u001b[1;32m      <a href='vscode-notebook-cell:/home/robbin/Projects/my-gait-events-tcn/test/example.ipynb#ch0000024?line=4'>5</a>\u001b[0m     sub_ids \u001b[39m+\u001b[39m\u001b[39m=\u001b[39m sub_id\n\u001b[1;32m      <a href='vscode-notebook-cell:/home/robbin/Projects/my-gait-events-tcn/test/example.ipynb#ch0000024?line=5'>6</a>\u001b[0m     filenames \u001b[39m+\u001b[39m\u001b[39m=\u001b[39m filename\n",
      "\u001b[1;32m/home/robbin/Projects/my-gait-events-tcn/test/example.ipynb Cell 14'\u001b[0m in \u001b[0;36madd_metrics\u001b[0;34m(ds_test, ix_sub_id, visualize)\u001b[0m\n\u001b[1;32m     <a href='vscode-notebook-cell:/home/robbin/Projects/my-gait-events-tcn/test/example.ipynb#ch0000022?line=30'>31</a>\u001b[0m         ix_pred\u001b[39m.\u001b[39mappend(ix_IC_pred[j])\n\u001b[1;32m     <a href='vscode-notebook-cell:/home/robbin/Projects/my-gait-events-tcn/test/example.ipynb#ch0000022?line=31'>32</a>\u001b[0m         \u001b[39m# print(f\"{'n/a':>6s} : {ix_IC_pred[j]}\")\u001b[39;00m\n\u001b[1;32m     <a href='vscode-notebook-cell:/home/robbin/Projects/my-gait-events-tcn/test/example.ipynb#ch0000022?line=32'>33</a>\u001b[0m         \n\u001b[1;32m     <a href='vscode-notebook-cell:/home/robbin/Projects/my-gait-events-tcn/test/example.ipynb#ch0000022?line=33'>34</a>\u001b[0m \u001b[39m# Final contacts\u001b[39;00m\n\u001b[0;32m---> <a href='vscode-notebook-cell:/home/robbin/Projects/my-gait-events-tcn/test/example.ipynb#ch0000022?line=34'>35</a>\u001b[0m ann2pred, pred2ann, dt \u001b[39m=\u001b[39m compare_events(ix_FC_true, ix_FC_pred)\n\u001b[1;32m     <a href='vscode-notebook-cell:/home/robbin/Projects/my-gait-events-tcn/test/example.ipynb#ch0000022?line=35'>36</a>\u001b[0m \u001b[39mfor\u001b[39;00m i \u001b[39min\u001b[39;00m \u001b[39mrange\u001b[39m(\u001b[39mlen\u001b[39m(ix_FC_true)):\n\u001b[1;32m     <a href='vscode-notebook-cell:/home/robbin/Projects/my-gait-events-tcn/test/example.ipynb#ch0000022?line=36'>37</a>\u001b[0m     event_type\u001b[39m.\u001b[39mappend(\u001b[39m\"\u001b[39m\u001b[39mFC\u001b[39m\u001b[39m\"\u001b[39m)\n",
      "File \u001b[0;32m~/Projects/my-gait-events-tcn/test/utils/evaluate.py:65\u001b[0m, in \u001b[0;36mcompare_events\u001b[0;34m(annotated, predicted, thr)\u001b[0m\n\u001b[1;32m     <a href='file:///~/Projects/my-gait-events-tcn/test/utils/evaluate.py?line=61'>62</a>\u001b[0m b2a[indices_b2a[np\u001b[39m.\u001b[39margwhere(a2b[b2a[indices_b2a]] \u001b[39m==\u001b[39m \u001b[39m-\u001b[39m\u001b[39m999\u001b[39m)[:,\u001b[39m0\u001b[39m]]] \u001b[39m=\u001b[39m \u001b[39m-\u001b[39m\u001b[39m999\u001b[39m\n\u001b[1;32m     <a href='file:///~/Projects/my-gait-events-tcn/test/utils/evaluate.py?line=63'>64</a>\u001b[0m \u001b[39m# Initial estimate of the time difference\u001b[39;00m\n\u001b[0;32m---> <a href='file:///~/Projects/my-gait-events-tcn/test/utils/evaluate.py?line=64'>65</a>\u001b[0m time_diff \u001b[39m=\u001b[39m predicted[b2a \u001b[39m>\u001b[39;49m \u001b[39m-\u001b[39;49m\u001b[39m999\u001b[39;49m] \u001b[39m-\u001b[39;49m annotated[a2b \u001b[39m>\u001b[39;49m \u001b[39m-\u001b[39;49m\u001b[39m999\u001b[39;49m]\n\u001b[1;32m     <a href='file:///~/Projects/my-gait-events-tcn/test/utils/evaluate.py?line=66'>67</a>\u001b[0m \u001b[39m# Create local copies\u001b[39;00m\n\u001b[1;32m     <a href='file:///~/Projects/my-gait-events-tcn/test/utils/evaluate.py?line=67'>68</a>\u001b[0m indices_a2b \u001b[39m=\u001b[39m a2b[a2b \u001b[39m>\u001b[39m \u001b[39m-\u001b[39m\u001b[39m999\u001b[39m]\n",
      "\u001b[0;31mValueError\u001b[0m: operands could not be broadcast together with shapes (3,) (4,) "
     ]
    }
   ],
   "source": [
    "sub_ids, filenames, sides, event_types, ix_refs, ix_preds = [], [], [], [], [], []\n",
    "for i in range(98, len(ds_test)):\n",
    "    print(f\"{i:>3d}: {ds_test[i]['filename_prefix']+'_'+ds_test[i]['left_or_right']:s}\")\n",
    "    sub_id, filename, side, event_type, ix_ref, ix_pred = add_metrics(ds_test, ix_sub_id=i)\n",
    "    sub_ids += sub_id\n",
    "    filenames += filename\n",
    "    sides += side\n",
    "    event_types += event_type\n",
    "    ix_refs += ix_ref\n",
    "    ix_preds += ix_pred    "
   ]
  },
  {
   "cell_type": "code",
   "execution_count": 55,
   "metadata": {},
   "outputs": [
    {
     "name": "stdout",
     "output_type": "stream",
     "text": [
      "   142 : 19\n",
      "   394 : 273\n",
      "   651 : 525\n",
      "   907 : 781\n",
      "  1175 : n/a\n",
      "   n/a : 1034\n"
     ]
    },
    {
     "ename": "ValueError",
     "evalue": "operands could not be broadcast together with shapes (3,) (4,) ",
     "output_type": "error",
     "traceback": [
      "\u001b[0;31m---------------------------------------------------------------------------\u001b[0m",
      "\u001b[0;31mValueError\u001b[0m                                Traceback (most recent call last)",
      "\u001b[1;32m/home/robbin/Projects/my-gait-events-tcn/test/example.ipynb Cell 16'\u001b[0m in \u001b[0;36m<module>\u001b[0;34m\u001b[0m\n\u001b[1;32m     <a href='vscode-notebook-cell:/home/robbin/Projects/my-gait-events-tcn/test/example.ipynb#ch0000029?line=30'>31</a>\u001b[0m         \u001b[39mprint\u001b[39m(\u001b[39mf\u001b[39m\u001b[39m\"\u001b[39m\u001b[39m{\u001b[39;00m\u001b[39m'\u001b[39m\u001b[39mn/a\u001b[39m\u001b[39m'\u001b[39m\u001b[39m:\u001b[39;00m\u001b[39m>6s\u001b[39m\u001b[39m}\u001b[39;00m\u001b[39m : \u001b[39m\u001b[39m{\u001b[39;00mix_IC_pred[j]\u001b[39m}\u001b[39;00m\u001b[39m\"\u001b[39m)\n\u001b[1;32m     <a href='vscode-notebook-cell:/home/robbin/Projects/my-gait-events-tcn/test/example.ipynb#ch0000029?line=32'>33</a>\u001b[0m \u001b[39m# Final contacts\u001b[39;00m\n\u001b[0;32m---> <a href='vscode-notebook-cell:/home/robbin/Projects/my-gait-events-tcn/test/example.ipynb#ch0000029?line=33'>34</a>\u001b[0m ann2pred, pred2ann, dt \u001b[39m=\u001b[39m compare_events(ix_FC_true, ix_FC_pred)\n\u001b[1;32m     <a href='vscode-notebook-cell:/home/robbin/Projects/my-gait-events-tcn/test/example.ipynb#ch0000029?line=34'>35</a>\u001b[0m \u001b[39mfor\u001b[39;00m i \u001b[39min\u001b[39;00m \u001b[39mrange\u001b[39m(\u001b[39mlen\u001b[39m(ix_FC_true)):\n\u001b[1;32m     <a href='vscode-notebook-cell:/home/robbin/Projects/my-gait-events-tcn/test/example.ipynb#ch0000029?line=35'>36</a>\u001b[0m     \u001b[39m# event_type.append(\"FC\")\u001b[39;00m\n\u001b[1;32m     <a href='vscode-notebook-cell:/home/robbin/Projects/my-gait-events-tcn/test/example.ipynb#ch0000029?line=36'>37</a>\u001b[0m     \u001b[39m# ix_ref.append(ix_FC_true[i])\u001b[39;00m\n\u001b[1;32m     <a href='vscode-notebook-cell:/home/robbin/Projects/my-gait-events-tcn/test/example.ipynb#ch0000029?line=37'>38</a>\u001b[0m     \u001b[39mif\u001b[39;00m ann2pred[i] \u001b[39m>\u001b[39m \u001b[39m-\u001b[39m\u001b[39m999\u001b[39m:\n",
      "File \u001b[0;32m~/Projects/my-gait-events-tcn/test/utils/evaluate.py:65\u001b[0m, in \u001b[0;36mcompare_events\u001b[0;34m(annotated, predicted, thr)\u001b[0m\n\u001b[1;32m     <a href='file:///~/Projects/my-gait-events-tcn/test/utils/evaluate.py?line=61'>62</a>\u001b[0m b2a[indices_b2a[np\u001b[39m.\u001b[39margwhere(a2b[b2a[indices_b2a]] \u001b[39m==\u001b[39m \u001b[39m-\u001b[39m\u001b[39m999\u001b[39m)[:,\u001b[39m0\u001b[39m]]] \u001b[39m=\u001b[39m \u001b[39m-\u001b[39m\u001b[39m999\u001b[39m\n\u001b[1;32m     <a href='file:///~/Projects/my-gait-events-tcn/test/utils/evaluate.py?line=63'>64</a>\u001b[0m \u001b[39m# Initial estimate of the time difference\u001b[39;00m\n\u001b[0;32m---> <a href='file:///~/Projects/my-gait-events-tcn/test/utils/evaluate.py?line=64'>65</a>\u001b[0m time_diff \u001b[39m=\u001b[39m predicted[b2a \u001b[39m>\u001b[39;49m \u001b[39m-\u001b[39;49m\u001b[39m999\u001b[39;49m] \u001b[39m-\u001b[39;49m annotated[a2b \u001b[39m>\u001b[39;49m \u001b[39m-\u001b[39;49m\u001b[39m999\u001b[39;49m]\n\u001b[1;32m     <a href='file:///~/Projects/my-gait-events-tcn/test/utils/evaluate.py?line=66'>67</a>\u001b[0m \u001b[39m# Create local copies\u001b[39;00m\n\u001b[1;32m     <a href='file:///~/Projects/my-gait-events-tcn/test/utils/evaluate.py?line=67'>68</a>\u001b[0m indices_a2b \u001b[39m=\u001b[39m a2b[a2b \u001b[39m>\u001b[39m \u001b[39m-\u001b[39m\u001b[39m999\u001b[39m]\n",
      "\u001b[0;31mValueError\u001b[0m: operands could not be broadcast together with shapes (3,) (4,) "
     ]
    }
   ],
   "source": [
    "# Get data array\n",
    "X = ds_test[192][\"data\"]\n",
    "X = np.expand_dims(X, axis=0)\n",
    "\n",
    "# Predict\n",
    "predictions = model.predict(X)\n",
    "\n",
    "# Get true and predicted events\n",
    "ix_IC_true, _ = find_peaks(ds_test[192][\"targets\"][\"initial_contact\"][:,0], height=0.4, distance=100)\n",
    "ix_FC_true, _ = find_peaks(ds_test[192][\"targets\"][\"final_contact\"][:,0], height=0.4, distance=100)\n",
    "ix_IC_pred, _ = find_peaks(predictions[0][0][:,0], height=0.4, distance=100)\n",
    "ix_FC_pred, _ = find_peaks(predictions[1][0][:,0], height=0.4, distance=100)\n",
    "\n",
    "event_type, ix_ref, ix_pred = [], [], []\n",
    "# Initial contacts\n",
    "ann2pred, pred2ann, dt = compare_events(ix_IC_true, ix_IC_pred)\n",
    "for i in range(len(ix_IC_true)):\n",
    "    # event_type.append(\"IC\")\n",
    "    # ix_ref.append(ix_IC_true[i])\n",
    "    if ann2pred[i] > -999:\n",
    "        print(f\"{ix_IC_true[i]:>6d} : {ix_IC_pred[ann2pred[i]]}\")\n",
    "        # ix_pred.append(ix_IC_pred[ann2pred[i]])\n",
    "    else:\n",
    "        print(f\"{ix_IC_true[i]:>6d} : {'n/a':s}\")\n",
    "        # ix_pred.append(\"n/a\")\n",
    "for j in range(len(ix_IC_pred)):\n",
    "    if pred2ann[j] == -999:\n",
    "        # event_type.append(\"IC\")\n",
    "        # ix_ref.append(\"n/a\")\n",
    "        # ix_pred.append(ix_IC_pred[j])\n",
    "        print(f\"{'n/a':>6s} : {ix_IC_pred[j]}\")\n",
    "        \n",
    "# Final contacts\n",
    "ann2pred, pred2ann, dt = compare_events(ix_FC_true, ix_FC_pred)\n",
    "for i in range(len(ix_FC_true)):\n",
    "    # event_type.append(\"FC\")\n",
    "    # ix_ref.append(ix_FC_true[i])\n",
    "    if ann2pred[i] > -999:\n",
    "        print(f\"{ix_FC_true[i]:>6d} : {ix_FC_pred[ann2pred[i]]}\")\n",
    "        # ix_pred.append(ix_FC_pred[ann2pred[i]])\n",
    "    else:\n",
    "        print(f\"{ix_FC_true[i]:>6d} : {'n/a':s}\")\n",
    "        # ix_pred.append(\"n/a\")\n",
    "for j in range(len(ix_FC_pred)):\n",
    "    if pred2ann[j] == -999:\n",
    "        # event_type.append(\"FC\")\n",
    "        # ix_ref.append(\"n/a\")\n",
    "        # ix_pred.append(ix_FC_pred[j])\n",
    "        print(f\"{'n/a':>6s} : {ix_FC_pred[j]}\")"
   ]
  },
  {
   "cell_type": "code",
   "execution_count": 57,
   "metadata": {},
   "outputs": [
    {
     "name": "stdout",
     "output_type": "stream",
     "text": [
      "[  56  311  560  818 1077]\n",
      "[ 185  436  695  950 1220]\n"
     ]
    }
   ],
   "source": [
    "print(ix_FC_true)\n",
    "print(ix_FC_pred)"
   ]
  },
  {
   "cell_type": "code",
   "execution_count": 75,
   "metadata": {},
   "outputs": [
    {
     "name": "stdout",
     "output_type": "stream",
     "text": [
      "a2b: [0 0 0 0 0]\n",
      "a2b: [0 1 1 2 3]\n",
      "a2b: [   0 -999    1    2    3]\n",
      "b2a: [0 0 0 0 0]\n",
      "b2a: [1 2 3 4 4]\n",
      "b2a: [   1    2    3    4 -999]\n",
      "time: [123 378 382 394]\n"
     ]
    }
   ],
   "source": [
    "a2b = np.zeros_like(ix_FC_true)\n",
    "print(f\"a2b: {a2b}\")\n",
    "for i in range(len(ix_FC_true)):\n",
    "    imin = np.argmin(np.abs(ix_FC_pred - ix_FC_true[i]))\n",
    "    a2b[i] = imin\n",
    "print(f\"a2b: {a2b}\")\n",
    "a2b_unique = np.unique(a2b)\n",
    "for i in range(len(a2b_unique)):\n",
    "    indices = np.argwhere(a2b == a2b_unique[i])[:,0]\n",
    "    if len(indices) > 1:\n",
    "        a2b[np.setdiff1d(indices, b2a[a2b_unique[i]])] = -999\n",
    "print(f\"a2b: {a2b}\")\n",
    "\n",
    "b2a = np.zeros_like(ix_FC_true)\n",
    "print(f\"b2a: {b2a}\")\n",
    "for i in range(len(ix_FC_pred)):\n",
    "    imin = np.argmin(np.abs(ix_FC_true - ix_FC_pred[i]))\n",
    "    b2a[i] = imin\n",
    "print(f\"b2a: {b2a}\")\n",
    "b2a_unique = np.unique(b2a)\n",
    "for i in range(len(b2a_unique)):\n",
    "    indices = np.argwhere(b2a == b2a_unique[i])[:,0]\n",
    "    if len(indices) > 1:\n",
    "        b2a[np.setdiff1d(indices, a2b[b2a_unique[i]])] = -999\n",
    "print(f\"b2a: {b2a}\")\n",
    "\n",
    "# indices_a2b = np.argwhere(a2b > -999)[:,0]\n",
    "# ii = np.argwhere(b2a[a2b[indices_a2b]]==-999)[:,0]\n",
    "# a2b[indices_a2b[ii]] = -999\n",
    "# print(f\"a2b: {a2b}\")\n",
    "\n",
    "# indices_b2a = np.argwhere(b2a > -999)[:,0]\n",
    "# ii = np.argwhere(a2b[b2a[indices_b2a]]==-999)[:,0]\n",
    "# b2a[indices_b2a[ii]] = -999\n",
    "# print(f\"b2a: {b2a}\")\n",
    "\n",
    "time_diff = ix_IC_true[a2b > -999] - ix_IC_pred[b2a > -999]\n",
    "print(f\"time: {time_diff}\")"
   ]
  },
  {
   "cell_type": "code",
   "execution_count": 76,
   "metadata": {},
   "outputs": [
    {
     "data": {
      "text/html": [
       "<div>\n",
       "<style scoped>\n",
       "    .dataframe tbody tr th:only-of-type {\n",
       "        vertical-align: middle;\n",
       "    }\n",
       "\n",
       "    .dataframe tbody tr th {\n",
       "        vertical-align: top;\n",
       "    }\n",
       "\n",
       "    .dataframe thead th {\n",
       "        text-align: right;\n",
       "    }\n",
       "</style>\n",
       "<table border=\"1\" class=\"dataframe\">\n",
       "  <thead>\n",
       "    <tr style=\"text-align: right;\">\n",
       "      <th></th>\n",
       "      <th>sub</th>\n",
       "      <th>filename</th>\n",
       "      <th>side</th>\n",
       "      <th>event_type</th>\n",
       "      <th>ix_ref</th>\n",
       "      <th>ix_pred</th>\n",
       "    </tr>\n",
       "  </thead>\n",
       "  <tbody>\n",
       "    <tr>\n",
       "      <th>0</th>\n",
       "      <td>pp013</td>\n",
       "      <td>sub-pp013_task-walkSlow</td>\n",
       "      <td>left</td>\n",
       "      <td>IC</td>\n",
       "      <td>108</td>\n",
       "      <td>114</td>\n",
       "    </tr>\n",
       "    <tr>\n",
       "      <th>1</th>\n",
       "      <td>pp013</td>\n",
       "      <td>sub-pp013_task-walkSlow</td>\n",
       "      <td>left</td>\n",
       "      <td>IC</td>\n",
       "      <td>366</td>\n",
       "      <td>369</td>\n",
       "    </tr>\n",
       "    <tr>\n",
       "      <th>2</th>\n",
       "      <td>pp013</td>\n",
       "      <td>sub-pp013_task-walkSlow</td>\n",
       "      <td>left</td>\n",
       "      <td>IC</td>\n",
       "      <td>632</td>\n",
       "      <td>636</td>\n",
       "    </tr>\n",
       "    <tr>\n",
       "      <th>3</th>\n",
       "      <td>pp013</td>\n",
       "      <td>sub-pp013_task-walkSlow</td>\n",
       "      <td>left</td>\n",
       "      <td>IC</td>\n",
       "      <td>894</td>\n",
       "      <td>898</td>\n",
       "    </tr>\n",
       "    <tr>\n",
       "      <th>4</th>\n",
       "      <td>pp013</td>\n",
       "      <td>sub-pp013_task-walkSlow</td>\n",
       "      <td>left</td>\n",
       "      <td>IC</td>\n",
       "      <td>1150</td>\n",
       "      <td>1155</td>\n",
       "    </tr>\n",
       "  </tbody>\n",
       "</table>\n",
       "</div>"
      ],
      "text/plain": [
       "     sub                 filename  side event_type ix_ref ix_pred\n",
       "0  pp013  sub-pp013_task-walkSlow  left         IC    108     114\n",
       "1  pp013  sub-pp013_task-walkSlow  left         IC    366     369\n",
       "2  pp013  sub-pp013_task-walkSlow  left         IC    632     636\n",
       "3  pp013  sub-pp013_task-walkSlow  left         IC    894     898\n",
       "4  pp013  sub-pp013_task-walkSlow  left         IC   1150    1155"
      ]
     },
     "execution_count": 76,
     "metadata": {},
     "output_type": "execute_result"
    }
   ],
   "source": [
    "df_out = pd.DataFrame({\n",
    "    \"sub\": sub_ids,\n",
    "    \"filename\": filenames,\n",
    "    \"side\": sides,\n",
    "    \"event_type\": event_types,\n",
    "    \"ix_ref\": ix_refs,\n",
    "    \"ix_pred\": ix_preds\n",
    "})\n",
    "df_out.head()"
   ]
  },
  {
   "cell_type": "code",
   "execution_count": 77,
   "metadata": {},
   "outputs": [],
   "source": [
    "df_out.to_csv(\"gait_event_detection.tsv\", sep=\"\\t\")"
   ]
  },
  {
   "cell_type": "code",
   "execution_count": null,
   "metadata": {},
   "outputs": [],
   "source": []
  },
  {
   "cell_type": "code",
   "execution_count": null,
   "metadata": {},
   "outputs": [],
   "source": []
  }
 ],
 "metadata": {
  "interpreter": {
   "hash": "a46f08e0b385f7b7576e4c544817319d1da98fa53d1492e7fa77b67b75acd524"
  },
  "kernelspec": {
   "display_name": "Python 3.8.10 ('venv': venv)",
   "language": "python",
   "name": "python3"
  },
  "language_info": {
   "codemirror_mode": {
    "name": "ipython",
    "version": 3
   },
   "file_extension": ".py",
   "mimetype": "text/x-python",
   "name": "python",
   "nbconvert_exporter": "python",
   "pygments_lexer": "ipython3",
   "version": "3.8.10"
  },
  "orig_nbformat": 4
 },
 "nbformat": 4,
 "nbformat_minor": 2
}
