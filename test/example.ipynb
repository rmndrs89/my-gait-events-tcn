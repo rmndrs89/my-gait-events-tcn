{
 "cells": [
  {
   "cell_type": "code",
   "execution_count": 118,
   "metadata": {},
   "outputs": [],
   "source": [
    "import os, sys\n",
    "import pandas as pd\n",
    "import numpy as np\n",
    "import matplotlib as mpl\n",
    "import matplotlib.pyplot as plt\n",
    "from utils.data_utils import load_dataset ,load_file, split_ids\n",
    "from utils.plot_utils import plot_targets\n",
    "from utils.preprocessing import create_batch_sequences, create_sequences\n",
    "from utils.evaluate import compare_events\n",
    "from scipy.signal import find_peaks"
   ]
  },
  {
   "cell_type": "markdown",
   "metadata": {},
   "source": [
    "For each valid trial, the relevant data and information are saved in **five** different data files:\n",
    "- sub-\\<label\\>_task-\\<label\\>[_run-\\<label\\>]_events.tsv\n",
    "- sub-\\<label\\>_task-\\<label\\>[_run-\\<label\\>]_tracksys-imu_channels.tsv\n",
    "- sub-\\<label\\>_task-\\<label\\>[_run-\\<label\\>]_tracksys-imu_motion.tsv\n",
    "- sub-\\<label\\>_task-\\<label\\>[_run-\\<label\\>]_tracksys-omc_channels.tsv\n",
    "- sub-\\<label\\>_task-\\<label\\>[_run-\\<label\\>]_tracksys-omc_motion.tsv\n",
    "\n",
    "As we only consinder **walk** trials, we can look for any **_events.tsv** file that contains **_task-walk** in the filename."
   ]
  },
  {
   "cell_type": "code",
   "execution_count": 4,
   "metadata": {},
   "outputs": [
    {
     "name": "stdout",
     "output_type": "stream",
     "text": [
      "# of subjects in train set: 62\t['sub-pp155', 'sub-pp157', 'sub-pp047', 'sub-pp039', 'sub-pp165']\n",
      "# of subjects in val set: 49\t['sub-pp168', 'sub-pp156', 'sub-pp147', 'sub-pp125', 'sub-pp106']\n",
      "# of subjects in test set: 49\t['sub-pp167', 'sub-pp135', 'sub-pp153', 'sub-pp126', 'sub-pp099']\n"
     ]
    }
   ],
   "source": [
    "# Set root directory\n",
    "root_dir = \"/mnt/neurogeriatrics_data/Keep Control/Data/lab dataset/rawdata\" if sys.platform == \"linux\" else \"Z:\\\\Keep Control\\\\Data\\\\lab dataset\\\\rawdata\"\n",
    "\n",
    "# Split subjects into a train, validation, and test set\n",
    "train_ids, val_ids, test_ids = split_ids(root_dir, by=[\"gender\", \"participant_type\"])\n",
    "print(f\"# of subjects in train set: {len(train_ids):d}\\t{train_ids[:5]}\")\n",
    "print(f\"# of subjects in val set: {len(val_ids):d}\\t{val_ids[:5]}\")\n",
    "print(f\"# of subjects in test set: {len(test_ids):d}\\t{test_ids[:5]}\")"
   ]
  },
  {
   "cell_type": "code",
   "execution_count": 5,
   "metadata": {},
   "outputs": [
    {
     "name": "stdout",
     "output_type": "stream",
     "text": [
      "/mnt/neurogeriatrics_data/Keep Control/Data/lab dataset/rawdata/sub-pp164/motion/sub-pp164_task-walkFast_events.tsv contains no data for (at least) the left_ankle sensor. Skip file.\n",
      "/mnt/neurogeriatrics_data/Keep Control/Data/lab dataset/rawdata/sub-pp164/motion/sub-pp164_task-walkPreferred_events.tsv contains no data for (at least) the left_ankle sensor. Skip file.\n",
      "/mnt/neurogeriatrics_data/Keep Control/Data/lab dataset/rawdata/sub-pp164/motion/sub-pp164_task-walkSlow_events.tsv contains no data for (at least) the left_ankle sensor. Skip file.\n",
      "/mnt/neurogeriatrics_data/Keep Control/Data/lab dataset/rawdata/sub-pp162/motion/sub-pp162_task-walkFast_events.tsv contains no data for (at least) the left_ankle sensor. Skip file.\n",
      "/mnt/neurogeriatrics_data/Keep Control/Data/lab dataset/rawdata/sub-pp162/motion/sub-pp162_task-walkPreferred_events.tsv contains no data for (at least) the left_ankle sensor. Skip file.\n",
      "/mnt/neurogeriatrics_data/Keep Control/Data/lab dataset/rawdata/sub-pp162/motion/sub-pp162_task-walkSlow_events.tsv contains no data for (at least) the left_ankle sensor. Skip file.\n",
      "/mnt/neurogeriatrics_data/Keep Control/Data/lab dataset/rawdata/sub-pp163/motion/sub-pp163_task-walkFast_events.tsv contains no data for (at least) the left_ankle sensor. Skip file.\n",
      "/mnt/neurogeriatrics_data/Keep Control/Data/lab dataset/rawdata/sub-pp163/motion/sub-pp163_task-walkPreferred_events.tsv contains no data for (at least) the left_ankle sensor. Skip file.\n",
      "/mnt/neurogeriatrics_data/Keep Control/Data/lab dataset/rawdata/sub-pp163/motion/sub-pp163_task-walkSlow_events.tsv contains no data for (at least) the left_ankle sensor. Skip file.\n"
     ]
    }
   ],
   "source": [
    "# Get datasets\n",
    "ds_train = load_dataset(root_dir, sub_ids=train_ids, tracked_points=[\"left_ankle\", \"right_ankle\"], normalize=True)\n",
    "ds_val = load_dataset(root_dir, sub_ids=val_ids, tracked_points=[\"left_ankle\", \"right_ankle\"], normalize=True)\n",
    "ds_test = load_dataset(root_dir, sub_ids=test_ids, tracked_points=[\"left_ankle\", \"right_ankle\"], normalize=True)"
   ]
  },
  {
   "cell_type": "code",
   "execution_count": 6,
   "metadata": {},
   "outputs": [],
   "source": [
    "WIN_LEN = 400\n",
    "STEP_LEN = 200\n",
    "train_data, train_targets, train_examples = create_batch_sequences(ds_train, win_len=WIN_LEN, step_len=STEP_LEN)\n",
    "val_data, val_targets, val_examples = create_batch_sequences(ds_val, win_len=WIN_LEN, step_len=STEP_LEN)"
   ]
  },
  {
   "cell_type": "markdown",
   "metadata": {},
   "source": [
    "## Build model"
   ]
  },
  {
   "cell_type": "code",
   "execution_count": 7,
   "metadata": {},
   "outputs": [],
   "source": [
    "from tensorflow import keras\n",
    "from tcn import TCN, tcn_full_summary"
   ]
  },
  {
   "cell_type": "code",
   "execution_count": 8,
   "metadata": {},
   "outputs": [],
   "source": [
    "def build_model(input_dim, target_classes):\n",
    "    # Define layers\n",
    "    inputs = keras.layers.Input(shape=(None, input_dim), name=\"inputs\")\n",
    "    tcn = TCN(nb_filters=16, kernel_size=5, nb_stacks=1, dilations=[1, 2], padding=\"same\", use_skip_connections=True, use_batch_norm=True, return_sequences=True, name=\"tcn\")(inputs)\n",
    "    outputs = []\n",
    "    for i in range(len(target_classes)):\n",
    "        outputs.append(keras.layers.Dense(units=1, activation=\"sigmoid\", name=target_classes[i])(tcn))\n",
    "    \n",
    "    # Instantiate model\n",
    "    model = keras.models.Model(inputs=inputs, outputs=outputs, name=\"tcn_model\")\n",
    "\n",
    "    # Compile\n",
    "    model.compile(loss=keras.losses.MeanSquaredError(), optimizer=keras.optimizers.Adam(learning_rate=0.001))\n",
    "    return model"
   ]
  },
  {
   "cell_type": "code",
   "execution_count": 9,
   "metadata": {},
   "outputs": [
    {
     "name": "stderr",
     "output_type": "stream",
     "text": [
      "2022-02-22 15:15:14.365116: I tensorflow/stream_executor/cuda/cuda_gpu_executor.cc:936] successful NUMA node read from SysFS had negative value (-1), but there must be at least one NUMA node, so returning NUMA node zero\n",
      "2022-02-22 15:15:14.424536: I tensorflow/stream_executor/cuda/cuda_gpu_executor.cc:936] successful NUMA node read from SysFS had negative value (-1), but there must be at least one NUMA node, so returning NUMA node zero\n",
      "2022-02-22 15:15:14.424680: I tensorflow/stream_executor/cuda/cuda_gpu_executor.cc:936] successful NUMA node read from SysFS had negative value (-1), but there must be at least one NUMA node, so returning NUMA node zero\n",
      "2022-02-22 15:15:14.425604: I tensorflow/core/platform/cpu_feature_guard.cc:151] This TensorFlow binary is optimized with oneAPI Deep Neural Network Library (oneDNN) to use the following CPU instructions in performance-critical operations:  AVX2 FMA\n",
      "To enable them in other operations, rebuild TensorFlow with the appropriate compiler flags.\n",
      "2022-02-22 15:15:14.426052: I tensorflow/stream_executor/cuda/cuda_gpu_executor.cc:936] successful NUMA node read from SysFS had negative value (-1), but there must be at least one NUMA node, so returning NUMA node zero\n",
      "2022-02-22 15:15:14.426167: I tensorflow/stream_executor/cuda/cuda_gpu_executor.cc:936] successful NUMA node read from SysFS had negative value (-1), but there must be at least one NUMA node, so returning NUMA node zero\n",
      "2022-02-22 15:15:14.426281: I tensorflow/stream_executor/cuda/cuda_gpu_executor.cc:936] successful NUMA node read from SysFS had negative value (-1), but there must be at least one NUMA node, so returning NUMA node zero\n",
      "2022-02-22 15:15:15.022320: I tensorflow/stream_executor/cuda/cuda_gpu_executor.cc:936] successful NUMA node read from SysFS had negative value (-1), but there must be at least one NUMA node, so returning NUMA node zero\n",
      "2022-02-22 15:15:15.022462: I tensorflow/stream_executor/cuda/cuda_gpu_executor.cc:936] successful NUMA node read from SysFS had negative value (-1), but there must be at least one NUMA node, so returning NUMA node zero\n",
      "2022-02-22 15:15:15.022557: I tensorflow/stream_executor/cuda/cuda_gpu_executor.cc:936] successful NUMA node read from SysFS had negative value (-1), but there must be at least one NUMA node, so returning NUMA node zero\n",
      "2022-02-22 15:15:15.022864: I tensorflow/core/common_runtime/gpu/gpu_device.cc:1525] Created device /job:localhost/replica:0/task:0/device:GPU:0 with 6060 MB memory:  -> device: 0, name: NVIDIA GeForce RTX 2080 SUPER, pci bus id: 0000:01:00.0, compute capability: 7.5\n"
     ]
    },
    {
     "name": "stdout",
     "output_type": "stream",
     "text": [
      "Model: \"tcn_model\"\n",
      "__________________________________________________________________________________________________\n",
      " Layer (type)                   Output Shape         Param #     Connected to                     \n",
      "==================================================================================================\n",
      " inputs (InputLayer)            [(None, None, 9)]    0           []                               \n",
      "                                                                                                  \n",
      " tcn (TCN)                      (None, None, 16)     5040        ['inputs[0][0]']                 \n",
      "                                                                                                  \n",
      " initial_contact (Dense)        (None, None, 1)      17          ['tcn[0][0]']                    \n",
      "                                                                                                  \n",
      " final_contact (Dense)          (None, None, 1)      17          ['tcn[0][0]']                    \n",
      "                                                                                                  \n",
      "==================================================================================================\n",
      "Total params: 5,074\n",
      "Trainable params: 4,946\n",
      "Non-trainable params: 128\n",
      "__________________________________________________________________________________________________\n"
     ]
    }
   ],
   "source": [
    "model = build_model(train_data.shape[-1], target_classes=list(train_targets.keys()))\n",
    "model.summary()"
   ]
  },
  {
   "cell_type": "code",
   "execution_count": 10,
   "metadata": {},
   "outputs": [
    {
     "name": "stdout",
     "output_type": "stream",
     "text": [
      "Epoch 1/5\n"
     ]
    },
    {
     "name": "stderr",
     "output_type": "stream",
     "text": [
      "2022-02-22 15:15:47.831748: I tensorflow/stream_executor/cuda/cuda_dnn.cc:368] Loaded cuDNN version 8101\n",
      "2022-02-22 15:15:48.553858: I tensorflow/core/platform/default/subprocess.cc:304] Start cannot spawn child process: No such file or directory\n"
     ]
    },
    {
     "name": "stdout",
     "output_type": "stream",
     "text": [
      "199/199 [==============================] - 5s 8ms/step - loss: 0.0770 - initial_contact_loss: 0.0585 - final_contact_loss: 0.0185 - val_loss: 0.0378 - val_initial_contact_loss: 0.0227 - val_final_contact_loss: 0.0151\n",
      "Epoch 2/5\n",
      "199/199 [==============================] - 1s 6ms/step - loss: 0.0231 - initial_contact_loss: 0.0133 - final_contact_loss: 0.0099 - val_loss: 0.0226 - val_initial_contact_loss: 0.0121 - val_final_contact_loss: 0.0104\n",
      "Epoch 3/5\n",
      "199/199 [==============================] - 1s 6ms/step - loss: 0.0187 - initial_contact_loss: 0.0104 - final_contact_loss: 0.0083 - val_loss: 0.0193 - val_initial_contact_loss: 0.0100 - val_final_contact_loss: 0.0093\n",
      "Epoch 4/5\n",
      "199/199 [==============================] - 1s 6ms/step - loss: 0.0168 - initial_contact_loss: 0.0094 - final_contact_loss: 0.0074 - val_loss: 0.0182 - val_initial_contact_loss: 0.0092 - val_final_contact_loss: 0.0090\n",
      "Epoch 5/5\n",
      "199/199 [==============================] - 1s 6ms/step - loss: 0.0157 - initial_contact_loss: 0.0088 - final_contact_loss: 0.0069 - val_loss: 0.0176 - val_initial_contact_loss: 0.0091 - val_final_contact_loss: 0.0084\n"
     ]
    }
   ],
   "source": [
    "history = model.fit(x=train_data, y=train_targets, batch_size=8, epochs=5, validation_data=(val_data, val_targets))"
   ]
  },
  {
   "cell_type": "code",
   "execution_count": 11,
   "metadata": {},
   "outputs": [],
   "source": [
    "predictions = model.predict(val_data, batch_size=8)"
   ]
  },
  {
   "cell_type": "code",
   "execution_count": 13,
   "metadata": {},
   "outputs": [
    {
     "data": {
      "text/plain": [
       "dict_keys(['initial_contact', 'final_contact'])"
      ]
     },
     "execution_count": 13,
     "metadata": {},
     "output_type": "execute_result"
    }
   ],
   "source": [
    "val_targets.keys()"
   ]
  },
  {
   "cell_type": "code",
   "execution_count": 17,
   "metadata": {},
   "outputs": [
    {
     "name": "stdout",
     "output_type": "stream",
     "text": [
      "0: initial_contact\n",
      "1: final_contact\n"
     ]
    },
    {
     "data": {
      "image/png": "[encoded data removed]",
      "text/plain": [
       "<Figure size 907.087x226.772 with 2 Axes>"
      ]
     },
     "metadata": {
      "needs_background": "light"
     },
     "output_type": "display_data"
    }
   ],
   "source": [
    "ix_example = np.random.choice(val_data.shape[0], 1, replace=False)[0]\n",
    "\n",
    "cm = 1/2.54\n",
    "fig, axs = plt.subplots(1, len(val_targets.keys()), figsize=(32*cm, 8*cm))\n",
    "for i, k in enumerate(val_targets.keys()):\n",
    "    print(f\"{i:d}: {k:s}\")\n",
    "    axs[i].plot(np.arange(val_targets[k][ix_example].shape[0]), val_targets[k][ix_example], 'r')\n",
    "    axs[i].plot(np.arange(predictions[i][ix_example].shape[0]), predictions[i][ix_example], 'b')\n",
    "# plt.plot(val_targets[\"final_contact_right\"][indx_example][:,0], label='true')\n",
    "# plt.plot(predictions[3][indx_example][:,0], label='pred')\n",
    "\n",
    "# plt.grid()\n",
    "# plt.legend()\n",
    "plt.show()"
   ]
  },
  {
   "cell_type": "markdown",
   "metadata": {},
   "source": [
    "### Evaluate on test set"
   ]
  },
  {
   "cell_type": "code",
   "execution_count": 108,
   "metadata": {},
   "outputs": [],
   "source": [
    "def fancy_plot(ds_test, ix_sub_id, predictions, ix_IC_pred, ix_FC_pred):\n",
    "    cm = 1/2.54\n",
    "\n",
    "    fig, axs = plt.subplots(1+len(ds_test[ix_sub_id][\"targets\"].keys()), 1, figsize=(16*cm, 9*cm), sharex=True, gridspec_kw={\"height_ratios\": [3, 1, 1]})\n",
    "    axs[0].plot(np.arange(ds_test[ix_sub_id][\"data\"].shape[0]), ds_test[ix_sub_id][\"data\"][:,5], ls=\"-\", c=(0, 0, 0), alpha=0.3)\n",
    "    axs[0].plot(np.argwhere(ds_test[ix_sub_id][\"targets\"][\"initial_contact\"]==1)[:,0], ds_test[ix_sub_id][\"data\"][np.argwhere(ds_test[ix_sub_id][\"targets\"][\"initial_contact\"]==1)[:,0],5], ls=\"none\", marker=\"o\", mfc=\"none\", mec=(0, 0, 1))\n",
    "    axs[0].plot(np.argwhere(ds_test[ix_sub_id][\"targets\"][\"final_contact\"]==1)[:,0], ds_test[ix_sub_id][\"data\"][np.argwhere(ds_test[ix_sub_id][\"targets\"][\"final_contact\"]==1)[:,0],5], ls=\"none\", marker=\"o\", mfc=\"none\", mec=(0, 0.65, 0))\n",
    "    axs[0].xaxis.set_minor_locator(plt.MultipleLocator(10))\n",
    "    axs[0].grid(which=\"both\", axis=\"both\", c=(0, 0, 0), alpha=0.1, ls=\":\")\n",
    "    axs[0].set_xlim([0, ds_test[ix_sub_id][\"data\"].shape[0]])\n",
    "\n",
    "    axs[1].plot(np.arange(ds_test[ix_sub_id][\"targets\"][\"initial_contact\"].shape[0]), ds_test[ix_sub_id][\"targets\"][\"initial_contact\"][:,0], ls=\"-\", c=(0, 0, 1), lw=2, alpha=0.2)\n",
    "    axs[1].plot(np.arange(predictions[0][0].shape[0]), predictions[0][0][:,0], ls=\"-\", lw=1, c=(0, 0, 1))\n",
    "    axs[1].plot(ix_IC_pred, predictions[0][0][ix_IC_pred,0], ls=\"none\", marker=\"o\", mfc=\"none\", mec=(0, 0, 1))\n",
    "    axs[1].set_ylim([0.1, 1.1])\n",
    "    axs[1].set_yticks([0, 1])\n",
    "    axs[1].set_ylabel(\"Pr(IC)\")\n",
    "    axs[1].yaxis.set_minor_locator(plt.MultipleLocator(0.25))\n",
    "    axs[1].grid(which=\"both\", axis=\"both\", c=(0, 0, 0), alpha=0.1, ls=\":\")\n",
    "\n",
    "    axs[2].plot(np.arange(ds_test[ix_sub_id][\"targets\"][\"final_contact\"].shape[0]), ds_test[ix_sub_id][\"targets\"][\"final_contact\"][:,0], ls=\"-\", c=(0, 0.65, 0), lw=2, alpha=0.2)\n",
    "    axs[2].plot(np.arange(predictions[1][0].shape[0]), predictions[1][0][:,0], ls=\"-\", lw=1, c=(0, 0.65, 0))\n",
    "    axs[2].plot(ix_FC_pred, predictions[1][0][ix_FC_pred,0], ls=\"none\", marker=\"o\", mfc=\"none\", mec=(0, 0.65, 0))\n",
    "    axs[2].set_ylim([0.1, 1.1])\n",
    "    axs[2].set_yticks([0, 1])\n",
    "    axs[2].set_ylabel(\"Pr(FC)\")\n",
    "    axs[2].yaxis.set_minor_locator(plt.MultipleLocator(0.25))\n",
    "    axs[2].grid(which=\"both\", axis=\"both\", c=(0, 0, 0), alpha=0.1, ls=\":\")\n",
    "    axs[2].set_xlabel(\"sample\")\n",
    "\n",
    "    plt.tight_layout()\n",
    "    plt.savefig(os.path.join(\"/home/robbin/Desktop/fig/20220222\", ds_test[ix_sub_id][\"filename_prefix\"]+\"_predictions.png\"), dpi=300)\n",
    "    return"
   ]
  },
  {
   "cell_type": "code",
   "execution_count": 135,
   "metadata": {},
   "outputs": [],
   "source": [
    "# ix_sub_id = np.random.choice(len(ds_test), 1, replace=False)[0]\n",
    "ix_sub_id = 2\n",
    "X_in = ds_test[ix_sub_id][\"data\"]\n",
    "X_in = np.expand_dims(X_in, axis=0)\n",
    "predictions = model.predict(X_in)"
   ]
  },
  {
   "cell_type": "code",
   "execution_count": 136,
   "metadata": {},
   "outputs": [],
   "source": [
    "ix_IC_true, _ = find_peaks(ds_test[ix_sub_id][\"targets\"][\"initial_contact\"][:,0], height=0.5, distance=100)\n",
    "ix_FC_true, _ = find_peaks(ds_test[ix_sub_id][\"targets\"][\"final_contact\"][:,0], height=0.5, distance=100)\n",
    "ix_IC_pred, _ = find_peaks(predictions[0][0][:,0], height=0.5, distance=100)\n",
    "ix_FC_pred, _ = find_peaks(predictions[1][0][:,0], height=0.5, distance=100)"
   ]
  },
  {
   "cell_type": "code",
   "execution_count": 137,
   "metadata": {},
   "outputs": [
    {
     "data": {
      "image/png": "[encoded data removed]",
      "text/plain": [
       "<Figure size 453.543x255.118 with 3 Axes>"
      ]
     },
     "metadata": {
      "needs_background": "light"
     },
     "output_type": "display_data"
    }
   ],
   "source": [
    "fancy_plot(ds_test=ds_test, ix_sub_id=ix_sub_id, predictions=predictions, ix_IC_pred=ix_IC_pred, ix_FC_pred=ix_FC_pred)"
   ]
  },
  {
   "cell_type": "code",
   "execution_count": 138,
   "metadata": {},
   "outputs": [
    {
     "name": "stdout",
     "output_type": "stream",
     "text": [
      "   123 : 123\n",
      "   335 : 338\n",
      "   542 : 543\n",
      "   752 : 752\n"
     ]
    }
   ],
   "source": [
    "ann2pred, pred2ann, dt = compare_events(ix_IC_true, ix_IC_pred)\n",
    "\n",
    "# Loop over the true events\n",
    "for i in range(len(ix_IC_true)):\n",
    "    if ann2pred[i] > -999:\n",
    "        print(f\"{ix_IC_true[i]:>6d} : {ix_IC_pred[ann2pred[i]]}\")\n",
    "    else:\n",
    "        print(f\"{ix_IC_true[i]:>6d} : {'n/a':s}\")\n",
    "for j in range(len(ix_IC_pred)):\n",
    "    if pred2ann[j] == -999:\n",
    "        print(f\"{'n/a':>6s} : {ix_IC_pred[j]}\")"
   ]
  },
  {
   "cell_type": "code",
   "execution_count": 139,
   "metadata": {},
   "outputs": [
    {
     "name": "stdout",
     "output_type": "stream",
     "text": [
      "    46 : 48\n",
      "   258 : 259\n",
      "   465 : 466\n",
      "   674 : 674\n"
     ]
    }
   ],
   "source": [
    "ann2pred, pred2ann, dt = compare_events(ix_FC_true, ix_FC_pred)\n",
    "\n",
    "# Loop over the true events\n",
    "for i in range(len(ix_FC_true)):\n",
    "    if ann2pred[i] > -999:\n",
    "        print(f\"{ix_FC_true[i]:>6d} : {ix_FC_pred[ann2pred[i]]}\")\n",
    "    else:\n",
    "        print(f\"{ix_FC_true[i]:>6d} : {'n/a':s}\")\n",
    "for j in range(len(ix_FC_pred)):\n",
    "    if pred2ann[j] == -999:\n",
    "        print(f\"{'n/a':>6s} : {ix_FC_pred[j]}\")"
   ]
  },
  {
   "cell_type": "code",
   "execution_count": null,
   "metadata": {},
   "outputs": [],
   "source": []
  }
 ],
 "metadata": {
  "interpreter": {
   "hash": "a46f08e0b385f7b7576e4c544817319d1da98fa53d1492e7fa77b67b75acd524"
  },
  "kernelspec": {
   "display_name": "Python 3.8.10 ('venv': venv)",
   "language": "python",
   "name": "python3"
  },
  "language_info": {
   "codemirror_mode": {
    "name": "ipython",
    "version": 3
   },
   "file_extension": ".py",
   "mimetype": "text/x-python",
   "name": "python",
   "nbconvert_exporter": "python",
   "pygments_lexer": "ipython3",
   "version": "3.8.10"
  },
  "orig_nbformat": 4
 },
 "nbformat": 4,
 "nbformat_minor": 2
}
