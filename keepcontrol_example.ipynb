{
 "cells": [
  {
   "cell_type": "code",
   "execution_count": 1,
   "metadata": {},
   "outputs": [],
   "source": [
    "from datasets import keepcontrol\n",
    "import numpy as np\n",
    "import matplotlib.pyplot as plt\n",
    "import pandas as pd\n",
    "import os"
   ]
  },
  {
   "cell_type": "code",
   "execution_count": 46,
   "metadata": {},
   "outputs": [],
   "source": [
    "# Global variables\n",
    "PATH = \"/mnt/neurogeriatrics_data/Keep Control/Data/lab dataset/rawdata\"\n",
    "DEMOGRAPHICS_FILE = \"/mnt/neurogeriatrics_data/Keep Control/Data/lab dataset/rawdata/participants.tsv\"\n",
    "TRACKED_POINTS = [\"left_ankle\", \"right_ankle\"]\n",
    "CLASSIFICATION_TASK = \"phases\"\n",
    "WIN_LEN = 400"
   ]
  },
  {
   "cell_type": "code",
   "execution_count": 47,
   "metadata": {},
   "outputs": [
    {
     "name": "stdout",
     "output_type": "stream",
     "text": [
      "Load dataset from pickle ...\n"
     ]
    }
   ],
   "source": [
    "ds_train, ds_val, ds_test = keepcontrol.load_data(\n",
    "    path=PATH,\n",
    "    filename=DEMOGRAPHICS_FILE,\n",
    "    tracked_points=TRACKED_POINTS,\n",
    "    incl_magn=False,\n",
    "    classification_task=CLASSIFICATION_TASK,\n",
    "    win_len=WIN_LEN\n",
    ")"
   ]
  },
  {
   "cell_type": "code",
   "execution_count": 48,
   "metadata": {},
   "outputs": [],
   "source": [
    "# Split datasets in data and labels\n",
    "(train_data, train_labels, train_filenames, train_ids) = ds_train\n",
    "(val_data, val_labels, val_filenames, val_ids) = ds_val"
   ]
  },
  {
   "cell_type": "code",
   "execution_count": 49,
   "metadata": {},
   "outputs": [
    {
     "data": {
      "text/plain": [
       "dtype('float64')"
      ]
     },
     "execution_count": 49,
     "metadata": {},
     "output_type": "execute_result"
    }
   ],
   "source": [
    "train_labels.dtype"
   ]
  },
  {
   "cell_type": "code",
   "execution_count": 50,
   "metadata": {},
   "outputs": [
    {
     "data": {
      "text/plain": [
       "(3502, 400, 1)"
      ]
     },
     "execution_count": 50,
     "metadata": {},
     "output_type": "execute_result"
    }
   ],
   "source": [
    "train_labels.shape"
   ]
  },
  {
   "cell_type": "code",
   "execution_count": 51,
   "metadata": {},
   "outputs": [],
   "source": [
    "import tensorflow as tf\n",
    "from tensorflow import keras\n",
    "from keras.models import Model\n",
    "from keras.layers import Input, Dense\n",
    "from tcn import TCN, tcn_full_summary"
   ]
  },
  {
   "cell_type": "code",
   "execution_count": 59,
   "metadata": {},
   "outputs": [],
   "source": [
    "def make_model(input_shape):\n",
    "    \n",
    "    # Define the layers that make up the architecture\n",
    "    input_layer = Input(shape=(None, input_shape[-1]), name=\"input_layer\")\n",
    "    tcn_layer = TCN(\n",
    "        nb_filters=16,\n",
    "        kernel_size=3,\n",
    "        nb_stacks=1,\n",
    "        dilations=(1, 2, 4, 8, 16, 32),\n",
    "        padding=\"causal\",\n",
    "        return_sequences=True,\n",
    "        use_skip_connections=True,\n",
    "        use_batch_norm=True,\n",
    "        name=\"tcn_layer\"\n",
    "    )(input_layer)\n",
    "    output_layer = Dense(units=1, activation=\"sigmoid\", name=\"output_layer\")(tcn_layer)\n",
    "    \n",
    "    # Define the model\n",
    "    tcn_model = Model(inputs=input_layer, outputs=output_layer, name=\"tcn_model\")\n",
    "    \n",
    "    # Compile the model\n",
    "    tcn_model.compile(\n",
    "        optimizer=tf.keras.optimizers.Adam(learning_rate=0.001),\n",
    "        loss=tf.keras.losses.BinaryCrossentropy(from_logits=False),\n",
    "        metrics=[tf.keras.metrics.BinaryAccuracy()]\n",
    "    )\n",
    "    return tcn_model"
   ]
  },
  {
   "cell_type": "code",
   "execution_count": 60,
   "metadata": {},
   "outputs": [
    {
     "name": "stdout",
     "output_type": "stream",
     "text": [
      "Model: \"tcn_model\"\n",
      "_________________________________________________________________\n",
      " Layer (type)                Output Shape              Param #   \n",
      "=================================================================\n",
      " input_layer (InputLayer)    [(None, None, 6)]         0         \n",
      "                                                                 \n",
      " tcn_layer (TCN)             (None, None, 16)          9808      \n",
      "                                                                 \n",
      " output_layer (Dense)        (None, None, 1)           17        \n",
      "                                                                 \n",
      "=================================================================\n",
      "Total params: 9,825\n",
      "Trainable params: 9,441\n",
      "Non-trainable params: 384\n",
      "_________________________________________________________________\n"
     ]
    }
   ],
   "source": [
    "tcn_model = make_model(train_data.shape[1:])\n",
    "tcn_model.summary()"
   ]
  },
  {
   "cell_type": "code",
   "execution_count": 61,
   "metadata": {},
   "outputs": [
    {
     "name": "stdout",
     "output_type": "stream",
     "text": [
      "Epoch 1/5\n",
      "28/28 [==============================] - 3s 28ms/step - loss: nan - binary_accuracy: 0.6789 - val_loss: nan - val_binary_accuracy: 0.6812\n",
      "Epoch 2/5\n",
      "28/28 [==============================] - 0s 15ms/step - loss: nan - binary_accuracy: 0.6789 - val_loss: nan - val_binary_accuracy: 0.6812\n",
      "Epoch 3/5\n",
      "28/28 [==============================] - 0s 15ms/step - loss: nan - binary_accuracy: 0.6789 - val_loss: nan - val_binary_accuracy: 0.6812\n",
      "Epoch 4/5\n",
      "28/28 [==============================] - 0s 15ms/step - loss: nan - binary_accuracy: 0.6789 - val_loss: nan - val_binary_accuracy: 0.6812\n",
      "Epoch 5/5\n",
      "28/28 [==============================] - 0s 15ms/step - loss: nan - binary_accuracy: 0.6789 - val_loss: nan - val_binary_accuracy: 0.6812\n"
     ]
    }
   ],
   "source": [
    "history = tcn_model.fit(\n",
    "    x=train_data,\n",
    "    y=train_labels,\n",
    "    epochs=5,\n",
    "    batch_size=128,\n",
    "    validation_data=(val_data, val_labels)\n",
    ")"
   ]
  },
  {
   "cell_type": "code",
   "execution_count": null,
   "metadata": {},
   "outputs": [],
   "source": []
  }
 ],
 "metadata": {
  "interpreter": {
   "hash": "a46f08e0b385f7b7576e4c544817319d1da98fa53d1492e7fa77b67b75acd524"
  },
  "kernelspec": {
   "display_name": "Python 3.8.10 ('venv': venv)",
   "language": "python",
   "name": "python3"
  },
  "language_info": {
   "codemirror_mode": {
    "name": "ipython",
    "version": 3
   },
   "file_extension": ".py",
   "mimetype": "text/x-python",
   "name": "python",
   "nbconvert_exporter": "python",
   "pygments_lexer": "ipython3",
   "version": "3.8.10"
  },
  "orig_nbformat": 4
 },
 "nbformat": 4,
 "nbformat_minor": 2
}
